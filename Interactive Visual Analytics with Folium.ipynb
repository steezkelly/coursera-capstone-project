{
    "cells": [
        {
            "cell_type": "markdown",
            "metadata": {
                "id": "3n3ltmfnrqpi",
                "outputId": "a2d4f52a-2fb7-4668-f5f0-fe862aab8eb0",
                "papermill": {
                    "duration": 1.489571,
                    "end_time": "2020-09-19T06:26:57.168979",
                    "exception": false,
                    "start_time": "2020-09-19T06:26:55.679408",
                    "status": "completed"
                },
                "tags": []
            },
            "source": "<p style=\"text-align:center\">\n    <a href=\"https://skills.network/?utm_medium=Exinfluencer&utm_source=Exinfluencer&utm_content=000026UJ&utm_term=10006555&utm_id=NA-SkillsNetwork-Channel-SkillsNetworkCoursesIBMDS0321ENSkillsNetwork26802033-2022-01-01\" target=\"_blank\">\n    <img src=\"https://cf-courses-data.s3.us.cloud-object-storage.appdomain.cloud/assets/logos/SN_web_lightmode.png\" width=\"200\" alt=\"Skills Network Logo\"  />\n    </a>\n</p>\n"
        },
        {
            "cell_type": "markdown",
            "metadata": {},
            "source": "# **Launch Sites Locations Analysis with Folium**\n"
        },
        {
            "cell_type": "markdown",
            "metadata": {},
            "source": "Estimated time needed: **40** minutes\n"
        },
        {
            "cell_type": "markdown",
            "metadata": {},
            "source": "The launch success rate may depend on many factors such as payload mass, orbit type, and so on. It may also depend on the location and proximities of a launch site, i.e., the initial position of rocket trajectories. Finding an optimal location for building a launch site certainly involves many factors and hopefully we could discover some of the factors by analyzing the existing launch site locations.\n"
        },
        {
            "cell_type": "markdown",
            "metadata": {},
            "source": "In the previous exploratory data analysis labs, you have visualized the SpaceX launch dataset using `matplotlib` and `seaborn` and discovered some preliminary correlations between the launch site and success rates. In this lab, you will be performing more interactive visual analytics using `Folium`.\n"
        },
        {
            "cell_type": "markdown",
            "metadata": {},
            "source": "## Objectives\n"
        },
        {
            "cell_type": "markdown",
            "metadata": {},
            "source": "This lab contains the following tasks:\n\n*   **TASK 1:** Mark all launch sites on a map\n*   **TASK 2:** Mark the success/failed launches for each site on the map\n*   **TASK 3:** Calculate the distances between a launch site to its proximities\n\nAfter completed the above tasks, you should be able to find some geographical patterns about launch sites.\n"
        },
        {
            "cell_type": "markdown",
            "metadata": {},
            "source": "Let's first import required Python packages for this lab:\n"
        },
        {
            "cell_type": "code",
            "execution_count": 1,
            "metadata": {},
            "outputs": [
                {
                    "name": "stdout",
                    "output_type": "stream",
                    "text": "Collecting folium\n  Downloading folium-0.12.1.post1-py2.py3-none-any.whl (95 kB)\n\u001b[K     |\u2588\u2588\u2588\u2588\u2588\u2588\u2588\u2588\u2588\u2588\u2588\u2588\u2588\u2588\u2588\u2588\u2588\u2588\u2588\u2588\u2588\u2588\u2588\u2588\u2588\u2588\u2588\u2588\u2588\u2588\u2588\u2588| 95 kB 9.6 MB/s  eta 0:00:01\n\u001b[?25hRequirement already satisfied: requests in /opt/conda/envs/Python-3.9/lib/python3.9/site-packages (from folium) (2.26.0)\nCollecting branca>=0.3.0\n  Downloading branca-0.5.0-py3-none-any.whl (24 kB)\nRequirement already satisfied: numpy in /opt/conda/envs/Python-3.9/lib/python3.9/site-packages (from folium) (1.20.3)\nRequirement already satisfied: jinja2>=2.9 in /opt/conda/envs/Python-3.9/lib/python3.9/site-packages (from folium) (3.0.2)\nRequirement already satisfied: MarkupSafe>=2.0 in /opt/conda/envs/Python-3.9/lib/python3.9/site-packages (from jinja2>=2.9->folium) (2.0.1)\nRequirement already satisfied: urllib3<1.27,>=1.21.1 in /opt/conda/envs/Python-3.9/lib/python3.9/site-packages (from requests->folium) (1.26.7)\nRequirement already satisfied: charset-normalizer~=2.0.0 in /opt/conda/envs/Python-3.9/lib/python3.9/site-packages (from requests->folium) (2.0.4)\nRequirement already satisfied: idna<4,>=2.5 in /opt/conda/envs/Python-3.9/lib/python3.9/site-packages (from requests->folium) (3.3)\nRequirement already satisfied: certifi>=2017.4.17 in /opt/conda/envs/Python-3.9/lib/python3.9/site-packages (from requests->folium) (2022.5.18.1)\nInstalling collected packages: branca, folium\nSuccessfully installed branca-0.5.0 folium-0.12.1.post1\nCollecting wget\n  Downloading wget-3.2.zip (10 kB)\nBuilding wheels for collected packages: wget\n  Building wheel for wget (setup.py) ... \u001b[?25ldone\n\u001b[?25h  Created wheel for wget: filename=wget-3.2-py3-none-any.whl size=9672 sha256=775dfdc8855cd3e30f4ebb994aa2edadf953158a56f88e76a5d443ebeb593079\n  Stored in directory: /tmp/wsuser/.cache/pip/wheels/04/5f/3e/46cc37c5d698415694d83f607f833f83f0149e49b3af9d0f38\nSuccessfully built wget\nInstalling collected packages: wget\nSuccessfully installed wget-3.2\n"
                }
            ],
            "source": "!pip3 install folium\n!pip3 install wget"
        },
        {
            "cell_type": "code",
            "execution_count": 2,
            "metadata": {},
            "outputs": [],
            "source": "import folium\nimport wget\nimport pandas as pd"
        },
        {
            "cell_type": "code",
            "execution_count": 3,
            "metadata": {},
            "outputs": [],
            "source": "# Import folium MarkerCluster plugin\nfrom folium.plugins import MarkerCluster\n# Import folium MousePosition plugin\nfrom folium.plugins import MousePosition\n# Import folium DivIcon plugin\nfrom folium.features import DivIcon"
        },
        {
            "cell_type": "markdown",
            "metadata": {},
            "source": "If you need to refresh your memory about folium, you may download and refer to this previous folium lab:\n"
        },
        {
            "cell_type": "markdown",
            "metadata": {},
            "source": "[Generating Maps with Python](https://cf-courses-data.s3.us.cloud-object-storage.appdomain.cloud/IBM-DS0321EN-SkillsNetwork/labs/module\\_3/DV0101EN-3-5-1-Generating-Maps-in-Python-py-v2.0.ipynb)\n"
        },
        {
            "cell_type": "markdown",
            "metadata": {},
            "source": "## Task 1: Mark all launch sites on a map\n"
        },
        {
            "cell_type": "markdown",
            "metadata": {},
            "source": "First, let's try to add each site's location on a map using site's latitude and longitude coordinates\n"
        },
        {
            "cell_type": "markdown",
            "metadata": {},
            "source": "The following dataset with the name `spacex_launch_geo.csv` is an augmented dataset with latitude and longitude added for each site.\n"
        },
        {
            "cell_type": "code",
            "execution_count": 4,
            "metadata": {},
            "outputs": [],
            "source": "# Download and read the `spacex_launch_geo.csv`\nspacex_csv_file = wget.download('https://cf-courses-data.s3.us.cloud-object-storage.appdomain.cloud/IBM-DS0321EN-SkillsNetwork/datasets/spacex_launch_geo.csv')\nspacex_df=pd.read_csv(spacex_csv_file)"
        },
        {
            "cell_type": "markdown",
            "metadata": {},
            "source": "Now, you can take a look at what are the coordinates for each site.\n"
        },
        {
            "cell_type": "code",
            "execution_count": 5,
            "metadata": {},
            "outputs": [
                {
                    "data": {
                        "text/html": "<div>\n<style scoped>\n    .dataframe tbody tr th:only-of-type {\n        vertical-align: middle;\n    }\n\n    .dataframe tbody tr th {\n        vertical-align: top;\n    }\n\n    .dataframe thead th {\n        text-align: right;\n    }\n</style>\n<table border=\"1\" class=\"dataframe\">\n  <thead>\n    <tr style=\"text-align: right;\">\n      <th></th>\n      <th>Launch Site</th>\n      <th>Lat</th>\n      <th>Long</th>\n    </tr>\n  </thead>\n  <tbody>\n    <tr>\n      <th>0</th>\n      <td>CCAFS LC-40</td>\n      <td>28.562302</td>\n      <td>-80.577356</td>\n    </tr>\n    <tr>\n      <th>1</th>\n      <td>CCAFS SLC-40</td>\n      <td>28.563197</td>\n      <td>-80.576820</td>\n    </tr>\n    <tr>\n      <th>2</th>\n      <td>KSC LC-39A</td>\n      <td>28.573255</td>\n      <td>-80.646895</td>\n    </tr>\n    <tr>\n      <th>3</th>\n      <td>VAFB SLC-4E</td>\n      <td>34.632834</td>\n      <td>-120.610745</td>\n    </tr>\n  </tbody>\n</table>\n</div>",
                        "text/plain": "    Launch Site        Lat        Long\n0   CCAFS LC-40  28.562302  -80.577356\n1  CCAFS SLC-40  28.563197  -80.576820\n2    KSC LC-39A  28.573255  -80.646895\n3   VAFB SLC-4E  34.632834 -120.610745"
                    },
                    "execution_count": 5,
                    "metadata": {},
                    "output_type": "execute_result"
                }
            ],
            "source": "# Select relevant sub-columns: `Launch Site`, `Lat(Latitude)`, `Long(Longitude)`, `class`\nspacex_df = spacex_df[['Launch Site', 'Lat', 'Long', 'class']]\nlaunch_sites_df = spacex_df.groupby(['Launch Site'], as_index=False).first()\nlaunch_sites_df = launch_sites_df[['Launch Site', 'Lat', 'Long']]\nlaunch_sites_df"
        },
        {
            "cell_type": "markdown",
            "metadata": {},
            "source": "Above coordinates are just plain numbers that can not give you any intuitive insights about where are those launch sites. If you are very good at geography, you can interpret those numbers directly in your mind. If not, that's fine too. Let's visualize those locations by pinning them on a map.\n"
        },
        {
            "cell_type": "markdown",
            "metadata": {},
            "source": "We first need to create a folium `Map` object, with an initial center location to be NASA Johnson Space Center at Houston, Texas.\n"
        },
        {
            "cell_type": "code",
            "execution_count": 6,
            "metadata": {},
            "outputs": [],
            "source": "# Start location is NASA Johnson Space Center\nnasa_coordinate = [29.559684888503615, -95.0830971930759]\nsite_map = folium.Map(location=nasa_coordinate, zoom_start=10)"
        },
        {
            "cell_type": "markdown",
            "metadata": {},
            "source": "We could use `folium.Circle` to add a highlighted circle area with a text label on a specific coordinate. For example,\n"
        },
        {
            "cell_type": "code",
            "execution_count": 7,
            "metadata": {},
            "outputs": [
                {
                    "data": {
                        "text/html": "<div style=\"width:100%;\"><div style=\"position:relative;width:100%;height:0;padding-bottom:60%;\"><span style=\"color:#565656\">Make this Notebook Trusted to load map: File -> Trust Notebook</span><iframe srcdoc=\"&lt;!DOCTYPE html&gt;\n&lt;head&gt;    \n    &lt;meta http-equiv=&quot;content-type&quot; content=&quot;text/html; charset=UTF-8&quot; /&gt;\n    \n        &lt;script&gt;\n            L_NO_TOUCH = false;\n            L_DISABLE_3D = false;\n        &lt;/script&gt;\n    \n    &lt;style&gt;html, body {width: 100%;height: 100%;margin: 0;padding: 0;}&lt;/style&gt;\n    &lt;style&gt;#map {position:absolute;top:0;bottom:0;right:0;left:0;}&lt;/style&gt;\n    &lt;script src=&quot;https://cdn.jsdelivr.net/npm/leaflet@1.6.0/dist/leaflet.js&quot;&gt;&lt;/script&gt;\n    &lt;script src=&quot;https://code.jquery.com/jquery-1.12.4.min.js&quot;&gt;&lt;/script&gt;\n    &lt;script src=&quot;https://maxcdn.bootstrapcdn.com/bootstrap/3.2.0/js/bootstrap.min.js&quot;&gt;&lt;/script&gt;\n    &lt;script src=&quot;https://cdnjs.cloudflare.com/ajax/libs/Leaflet.awesome-markers/2.0.2/leaflet.awesome-markers.js&quot;&gt;&lt;/script&gt;\n    &lt;link rel=&quot;stylesheet&quot; href=&quot;https://cdn.jsdelivr.net/npm/leaflet@1.6.0/dist/leaflet.css&quot;/&gt;\n    &lt;link rel=&quot;stylesheet&quot; href=&quot;https://maxcdn.bootstrapcdn.com/bootstrap/3.2.0/css/bootstrap.min.css&quot;/&gt;\n    &lt;link rel=&quot;stylesheet&quot; href=&quot;https://maxcdn.bootstrapcdn.com/bootstrap/3.2.0/css/bootstrap-theme.min.css&quot;/&gt;\n    &lt;link rel=&quot;stylesheet&quot; href=&quot;https://maxcdn.bootstrapcdn.com/font-awesome/4.6.3/css/font-awesome.min.css&quot;/&gt;\n    &lt;link rel=&quot;stylesheet&quot; href=&quot;https://cdnjs.cloudflare.com/ajax/libs/Leaflet.awesome-markers/2.0.2/leaflet.awesome-markers.css&quot;/&gt;\n    &lt;link rel=&quot;stylesheet&quot; href=&quot;https://cdn.jsdelivr.net/gh/python-visualization/folium/folium/templates/leaflet.awesome.rotate.min.css&quot;/&gt;\n    \n            &lt;meta name=&quot;viewport&quot; content=&quot;width=device-width,\n                initial-scale=1.0, maximum-scale=1.0, user-scalable=no&quot; /&gt;\n            &lt;style&gt;\n                #map_7b9ea55407240a8d67cef6bd46d09360 {\n                    position: relative;\n                    width: 100.0%;\n                    height: 100.0%;\n                    left: 0.0%;\n                    top: 0.0%;\n                }\n            &lt;/style&gt;\n        \n&lt;/head&gt;\n&lt;body&gt;    \n    \n            &lt;div class=&quot;folium-map&quot; id=&quot;map_7b9ea55407240a8d67cef6bd46d09360&quot; &gt;&lt;/div&gt;\n        \n&lt;/body&gt;\n&lt;script&gt;    \n    \n            var map_7b9ea55407240a8d67cef6bd46d09360 = L.map(\n                &quot;map_7b9ea55407240a8d67cef6bd46d09360&quot;,\n                {\n                    center: [29.559684888503615, -95.0830971930759],\n                    crs: L.CRS.EPSG3857,\n                    zoom: 10,\n                    zoomControl: true,\n                    preferCanvas: false,\n                }\n            );\n\n            \n\n        \n    \n            var tile_layer_3b2c801080d9e8e3183ab5a3554d7fb4 = L.tileLayer(\n                &quot;https://{s}.tile.openstreetmap.org/{z}/{x}/{y}.png&quot;,\n                {&quot;attribution&quot;: &quot;Data by \\u0026copy; \\u003ca href=\\&quot;http://openstreetmap.org\\&quot;\\u003eOpenStreetMap\\u003c/a\\u003e, under \\u003ca href=\\&quot;http://www.openstreetmap.org/copyright\\&quot;\\u003eODbL\\u003c/a\\u003e.&quot;, &quot;detectRetina&quot;: false, &quot;maxNativeZoom&quot;: 18, &quot;maxZoom&quot;: 18, &quot;minZoom&quot;: 0, &quot;noWrap&quot;: false, &quot;opacity&quot;: 1, &quot;subdomains&quot;: &quot;abc&quot;, &quot;tms&quot;: false}\n            ).addTo(map_7b9ea55407240a8d67cef6bd46d09360);\n        \n    \n            var circle_cc5788d4b8faa51f48e8c6a155a84262 = L.circle(\n                [29.559684888503615, -95.0830971930759],\n                {&quot;bubblingMouseEvents&quot;: true, &quot;color&quot;: &quot;#d35400&quot;, &quot;dashArray&quot;: null, &quot;dashOffset&quot;: null, &quot;fill&quot;: true, &quot;fillColor&quot;: &quot;#d35400&quot;, &quot;fillOpacity&quot;: 0.2, &quot;fillRule&quot;: &quot;evenodd&quot;, &quot;lineCap&quot;: &quot;round&quot;, &quot;lineJoin&quot;: &quot;round&quot;, &quot;opacity&quot;: 1.0, &quot;radius&quot;: 1000, &quot;stroke&quot;: true, &quot;weight&quot;: 3}\n            ).addTo(map_7b9ea55407240a8d67cef6bd46d09360);\n        \n    \n        var popup_b4a7f585f5654068d17f35932a626a45 = L.popup({&quot;maxWidth&quot;: &quot;100%&quot;});\n\n        \n            var html_dd7c570b25cbbf5ebfbc80320a8e4302 = $(`&lt;div id=&quot;html_dd7c570b25cbbf5ebfbc80320a8e4302&quot; style=&quot;width: 100.0%; height: 100.0%;&quot;&gt;NASA Johnson Space Center&lt;/div&gt;`)[0];\n            popup_b4a7f585f5654068d17f35932a626a45.setContent(html_dd7c570b25cbbf5ebfbc80320a8e4302);\n        \n\n        circle_cc5788d4b8faa51f48e8c6a155a84262.bindPopup(popup_b4a7f585f5654068d17f35932a626a45)\n        ;\n\n        \n    \n    \n            var marker_55fecd0dd9a52142443ee541f755b323 = L.marker(\n                [29.559684888503615, -95.0830971930759],\n                {}\n            ).addTo(map_7b9ea55407240a8d67cef6bd46d09360);\n        \n    \n            var div_icon_e47b96edf1c1720bde367eb87b7e3454 = L.divIcon({&quot;className&quot;: &quot;empty&quot;, &quot;html&quot;: &quot;\\u003cdiv style=\\&quot;font-size: 12; color:#d35400;\\&quot;\\u003e\\u003cb\\u003eNASA JSC\\u003c/b\\u003e\\u003c/div\\u003e&quot;, &quot;iconAnchor&quot;: [0, 0], &quot;iconSize&quot;: [20, 20]});\n            marker_55fecd0dd9a52142443ee541f755b323.setIcon(div_icon_e47b96edf1c1720bde367eb87b7e3454);\n        \n&lt;/script&gt;\" style=\"position:absolute;width:100%;height:100%;left:0;top:0;border:none !important;\" allowfullscreen webkitallowfullscreen mozallowfullscreen></iframe></div></div>",
                        "text/plain": "<folium.folium.Map at 0x7fdbcc4cea90>"
                    },
                    "execution_count": 7,
                    "metadata": {},
                    "output_type": "execute_result"
                }
            ],
            "source": "# Create a blue circle at NASA Johnson Space Center's coordinate with a popup label showing its name\ncircle = folium.Circle(nasa_coordinate, radius=1000, color='#d35400', fill=True).add_child(folium.Popup('NASA Johnson Space Center'))\n# Create a blue circle at NASA Johnson Space Center's coordinate with a icon showing its name\nmarker = folium.map.Marker(\n    nasa_coordinate,\n    # Create an icon as a text label\n    icon=DivIcon(\n        icon_size=(20,20),\n        icon_anchor=(0,0),\n        html='<div style=\"font-size: 12; color:#d35400;\"><b>%s</b></div>' % 'NASA JSC',\n        )\n    )\nsite_map.add_child(circle)\nsite_map.add_child(marker)"
        },
        {
            "cell_type": "markdown",
            "metadata": {},
            "source": "and you should find a small yellow circle near the city of Houston and you can zoom-in to see a larger circle.\n"
        },
        {
            "cell_type": "markdown",
            "metadata": {},
            "source": "Now, let's add a circle for each launch site in data frame `launch_sites`\n"
        },
        {
            "cell_type": "markdown",
            "metadata": {},
            "source": "*TODO:*  Create and add `folium.Circle` and `folium.Marker` for each launch site on the site map\n"
        },
        {
            "cell_type": "markdown",
            "metadata": {},
            "source": "An example of folium.Circle:\n"
        },
        {
            "cell_type": "markdown",
            "metadata": {},
            "source": "`folium.Circle(coordinate, radius=1000, color='#000000', fill=True).add_child(folium.Popup(...))`\n"
        },
        {
            "cell_type": "markdown",
            "metadata": {},
            "source": "An example of folium.Marker:\n"
        },
        {
            "cell_type": "markdown",
            "metadata": {},
            "source": "`folium.map.Marker(coordinate, icon=DivIcon(icon_size=(20,20),icon_anchor=(0,0), html='<div style=\"font-size: 12; color:#d35400;\"><b>%s</b></div>' % 'label', ))`\n"
        },
        {
            "cell_type": "code",
            "execution_count": 8,
            "metadata": {},
            "outputs": [
                {
                    "data": {
                        "text/html": "<div style=\"width:100%;\"><div style=\"position:relative;width:100%;height:0;padding-bottom:60%;\"><span style=\"color:#565656\">Make this Notebook Trusted to load map: File -> Trust Notebook</span><iframe srcdoc=\"&lt;!DOCTYPE html&gt;\n&lt;head&gt;    \n    &lt;meta http-equiv=&quot;content-type&quot; content=&quot;text/html; charset=UTF-8&quot; /&gt;\n    \n        &lt;script&gt;\n            L_NO_TOUCH = false;\n            L_DISABLE_3D = false;\n        &lt;/script&gt;\n    \n    &lt;style&gt;html, body {width: 100%;height: 100%;margin: 0;padding: 0;}&lt;/style&gt;\n    &lt;style&gt;#map {position:absolute;top:0;bottom:0;right:0;left:0;}&lt;/style&gt;\n    &lt;script src=&quot;https://cdn.jsdelivr.net/npm/leaflet@1.6.0/dist/leaflet.js&quot;&gt;&lt;/script&gt;\n    &lt;script src=&quot;https://code.jquery.com/jquery-1.12.4.min.js&quot;&gt;&lt;/script&gt;\n    &lt;script src=&quot;https://maxcdn.bootstrapcdn.com/bootstrap/3.2.0/js/bootstrap.min.js&quot;&gt;&lt;/script&gt;\n    &lt;script src=&quot;https://cdnjs.cloudflare.com/ajax/libs/Leaflet.awesome-markers/2.0.2/leaflet.awesome-markers.js&quot;&gt;&lt;/script&gt;\n    &lt;link rel=&quot;stylesheet&quot; href=&quot;https://cdn.jsdelivr.net/npm/leaflet@1.6.0/dist/leaflet.css&quot;/&gt;\n    &lt;link rel=&quot;stylesheet&quot; href=&quot;https://maxcdn.bootstrapcdn.com/bootstrap/3.2.0/css/bootstrap.min.css&quot;/&gt;\n    &lt;link rel=&quot;stylesheet&quot; href=&quot;https://maxcdn.bootstrapcdn.com/bootstrap/3.2.0/css/bootstrap-theme.min.css&quot;/&gt;\n    &lt;link rel=&quot;stylesheet&quot; href=&quot;https://maxcdn.bootstrapcdn.com/font-awesome/4.6.3/css/font-awesome.min.css&quot;/&gt;\n    &lt;link rel=&quot;stylesheet&quot; href=&quot;https://cdnjs.cloudflare.com/ajax/libs/Leaflet.awesome-markers/2.0.2/leaflet.awesome-markers.css&quot;/&gt;\n    &lt;link rel=&quot;stylesheet&quot; href=&quot;https://cdn.jsdelivr.net/gh/python-visualization/folium/folium/templates/leaflet.awesome.rotate.min.css&quot;/&gt;\n    \n            &lt;meta name=&quot;viewport&quot; content=&quot;width=device-width,\n                initial-scale=1.0, maximum-scale=1.0, user-scalable=no&quot; /&gt;\n            &lt;style&gt;\n                #map_002155cd1c365779a3cad6ad01a0ad2e {\n                    position: relative;\n                    width: 100.0%;\n                    height: 100.0%;\n                    left: 0.0%;\n                    top: 0.0%;\n                }\n            &lt;/style&gt;\n        \n&lt;/head&gt;\n&lt;body&gt;    \n    \n            &lt;div class=&quot;folium-map&quot; id=&quot;map_002155cd1c365779a3cad6ad01a0ad2e&quot; &gt;&lt;/div&gt;\n        \n&lt;/body&gt;\n&lt;script&gt;    \n    \n            var map_002155cd1c365779a3cad6ad01a0ad2e = L.map(\n                &quot;map_002155cd1c365779a3cad6ad01a0ad2e&quot;,\n                {\n                    center: [29.559684888503615, -95.0830971930759],\n                    crs: L.CRS.EPSG3857,\n                    zoom: 5,\n                    zoomControl: true,\n                    preferCanvas: false,\n                }\n            );\n\n            \n\n        \n    \n            var tile_layer_c494422ee79ed2fce261ffc5bb5f0edc = L.tileLayer(\n                &quot;https://{s}.tile.openstreetmap.org/{z}/{x}/{y}.png&quot;,\n                {&quot;attribution&quot;: &quot;Data by \\u0026copy; \\u003ca href=\\&quot;http://openstreetmap.org\\&quot;\\u003eOpenStreetMap\\u003c/a\\u003e, under \\u003ca href=\\&quot;http://www.openstreetmap.org/copyright\\&quot;\\u003eODbL\\u003c/a\\u003e.&quot;, &quot;detectRetina&quot;: false, &quot;maxNativeZoom&quot;: 18, &quot;maxZoom&quot;: 18, &quot;minZoom&quot;: 0, &quot;noWrap&quot;: false, &quot;opacity&quot;: 1, &quot;subdomains&quot;: &quot;abc&quot;, &quot;tms&quot;: false}\n            ).addTo(map_002155cd1c365779a3cad6ad01a0ad2e);\n        \n    \n            var circle_ef69b7d7ff3810b655c3486ac34f61d1 = L.circle(\n                [28.562302, -80.577356],\n                {&quot;bubblingMouseEvents&quot;: true, &quot;color&quot;: &quot;#d35400&quot;, &quot;dashArray&quot;: null, &quot;dashOffset&quot;: null, &quot;fill&quot;: true, &quot;fillColor&quot;: &quot;#d35400&quot;, &quot;fillOpacity&quot;: 0.2, &quot;fillRule&quot;: &quot;evenodd&quot;, &quot;lineCap&quot;: &quot;round&quot;, &quot;lineJoin&quot;: &quot;round&quot;, &quot;opacity&quot;: 1.0, &quot;radius&quot;: 1000, &quot;stroke&quot;: true, &quot;weight&quot;: 3}\n            ).addTo(map_002155cd1c365779a3cad6ad01a0ad2e);\n        \n    \n        var popup_083baac520084cf6b96ff68e4e23434c = L.popup({&quot;maxWidth&quot;: &quot;100%&quot;});\n\n        \n            var html_a8fbbe295092856e4008df09bc052405 = $(`&lt;div id=&quot;html_a8fbbe295092856e4008df09bc052405&quot; style=&quot;width: 100.0%; height: 100.0%;&quot;&gt;CCAFS LC-40 &lt;/div&gt;`)[0];\n            popup_083baac520084cf6b96ff68e4e23434c.setContent(html_a8fbbe295092856e4008df09bc052405);\n        \n\n        circle_ef69b7d7ff3810b655c3486ac34f61d1.bindPopup(popup_083baac520084cf6b96ff68e4e23434c)\n        ;\n\n        \n    \n    \n            var marker_2a368fac01e39dd1e5fdd4f23484cfc2 = L.marker(\n                [28.562302, -80.577356],\n                {}\n            ).addTo(map_002155cd1c365779a3cad6ad01a0ad2e);\n        \n    \n            var div_icon_267508f1c5bf4aa85b0dbb12cdf28ba8 = L.divIcon({&quot;className&quot;: &quot;empty&quot;, &quot;html&quot;: &quot;\\u003cdiv style=\\&quot;font-size: 12; color:#d35400;\\&quot;\\u003e\\u003cb\\u003eCCAFS LC-40\\u003c/b\\u003e\\u003c/div\\u003e&quot;, &quot;iconAnchor&quot;: [0, 0], &quot;iconSize&quot;: [20, 20]});\n            marker_2a368fac01e39dd1e5fdd4f23484cfc2.setIcon(div_icon_267508f1c5bf4aa85b0dbb12cdf28ba8);\n        \n    \n            var circle_51b8d2358545c91f84cbb0fcab84f316 = L.circle(\n                [28.563197, -80.57682],\n                {&quot;bubblingMouseEvents&quot;: true, &quot;color&quot;: &quot;#d35400&quot;, &quot;dashArray&quot;: null, &quot;dashOffset&quot;: null, &quot;fill&quot;: true, &quot;fillColor&quot;: &quot;#d35400&quot;, &quot;fillOpacity&quot;: 0.2, &quot;fillRule&quot;: &quot;evenodd&quot;, &quot;lineCap&quot;: &quot;round&quot;, &quot;lineJoin&quot;: &quot;round&quot;, &quot;opacity&quot;: 1.0, &quot;radius&quot;: 1000, &quot;stroke&quot;: true, &quot;weight&quot;: 3}\n            ).addTo(map_002155cd1c365779a3cad6ad01a0ad2e);\n        \n    \n        var popup_6189350099faff6b226224357f9b22cd = L.popup({&quot;maxWidth&quot;: &quot;100%&quot;});\n\n        \n            var html_842c4ce224ba82954bd6e7e5dc9cc486 = $(`&lt;div id=&quot;html_842c4ce224ba82954bd6e7e5dc9cc486&quot; style=&quot;width: 100.0%; height: 100.0%;&quot;&gt;CCAFS SLC-40&lt;/div&gt;`)[0];\n            popup_6189350099faff6b226224357f9b22cd.setContent(html_842c4ce224ba82954bd6e7e5dc9cc486);\n        \n\n        circle_51b8d2358545c91f84cbb0fcab84f316.bindPopup(popup_6189350099faff6b226224357f9b22cd)\n        ;\n\n        \n    \n    \n            var marker_8c839508e2185d399c4d4f70d58a2a4d = L.marker(\n                [28.563197, -80.57682],\n                {}\n            ).addTo(map_002155cd1c365779a3cad6ad01a0ad2e);\n        \n    \n            var div_icon_91dd4585edd3aacfac94291cbd5c39ec = L.divIcon({&quot;className&quot;: &quot;empty&quot;, &quot;html&quot;: &quot;\\u003cdiv style=\\&quot;font-size: 12; color:#d35400;\\&quot;\\u003e\\u003cb\\u003eCCAFS SLC-40\\u003c/b\\u003e\\u003c/div\\u003e&quot;, &quot;iconAnchor&quot;: [0, 0], &quot;iconSize&quot;: [20, 20]});\n            marker_8c839508e2185d399c4d4f70d58a2a4d.setIcon(div_icon_91dd4585edd3aacfac94291cbd5c39ec);\n        \n    \n            var circle_446c5fc07908bb1bcff53718c404845d = L.circle(\n                [28.573255, -80.646895],\n                {&quot;bubblingMouseEvents&quot;: true, &quot;color&quot;: &quot;#d35400&quot;, &quot;dashArray&quot;: null, &quot;dashOffset&quot;: null, &quot;fill&quot;: true, &quot;fillColor&quot;: &quot;#d35400&quot;, &quot;fillOpacity&quot;: 0.2, &quot;fillRule&quot;: &quot;evenodd&quot;, &quot;lineCap&quot;: &quot;round&quot;, &quot;lineJoin&quot;: &quot;round&quot;, &quot;opacity&quot;: 1.0, &quot;radius&quot;: 1000, &quot;stroke&quot;: true, &quot;weight&quot;: 3}\n            ).addTo(map_002155cd1c365779a3cad6ad01a0ad2e);\n        \n    \n        var popup_8770c193dc69d904ffd6658dd89a395a = L.popup({&quot;maxWidth&quot;: &quot;100%&quot;});\n\n        \n            var html_3a08e40ddcacd4620b345d1d9f5cba9c = $(`&lt;div id=&quot;html_3a08e40ddcacd4620b345d1d9f5cba9c&quot; style=&quot;width: 100.0%; height: 100.0%;&quot;&gt;KSC LC-39A&lt;/div&gt;`)[0];\n            popup_8770c193dc69d904ffd6658dd89a395a.setContent(html_3a08e40ddcacd4620b345d1d9f5cba9c);\n        \n\n        circle_446c5fc07908bb1bcff53718c404845d.bindPopup(popup_8770c193dc69d904ffd6658dd89a395a)\n        ;\n\n        \n    \n    \n            var marker_1feddcb1db04cf535942b11ed74385ef = L.marker(\n                [28.573255, -80.646895],\n                {}\n            ).addTo(map_002155cd1c365779a3cad6ad01a0ad2e);\n        \n    \n            var div_icon_03d35d5266493a56689b0ad78023012a = L.divIcon({&quot;className&quot;: &quot;empty&quot;, &quot;html&quot;: &quot;\\u003cdiv style=\\&quot;font-size: 12; color:#d35400;\\&quot;\\u003e\\u003cb\\u003eKSC LC-39A\\u003c/b\\u003e\\u003c/div\\u003e&quot;, &quot;iconAnchor&quot;: [0, 0], &quot;iconSize&quot;: [20, 20]});\n            marker_1feddcb1db04cf535942b11ed74385ef.setIcon(div_icon_03d35d5266493a56689b0ad78023012a);\n        \n    \n            var circle_7dee330a5c3d6a48f10d970921bcda92 = L.circle(\n                [34.632834, -120.610745],\n                {&quot;bubblingMouseEvents&quot;: true, &quot;color&quot;: &quot;#d35400&quot;, &quot;dashArray&quot;: null, &quot;dashOffset&quot;: null, &quot;fill&quot;: true, &quot;fillColor&quot;: &quot;#d35400&quot;, &quot;fillOpacity&quot;: 0.2, &quot;fillRule&quot;: &quot;evenodd&quot;, &quot;lineCap&quot;: &quot;round&quot;, &quot;lineJoin&quot;: &quot;round&quot;, &quot;opacity&quot;: 1.0, &quot;radius&quot;: 1000, &quot;stroke&quot;: true, &quot;weight&quot;: 3}\n            ).addTo(map_002155cd1c365779a3cad6ad01a0ad2e);\n        \n    \n        var popup_6ac085452070e5534dd3d61c37e18852 = L.popup({&quot;maxWidth&quot;: &quot;100%&quot;});\n\n        \n            var html_e4dd9fccbadd2809c22106c82be5b709 = $(`&lt;div id=&quot;html_e4dd9fccbadd2809c22106c82be5b709&quot; style=&quot;width: 100.0%; height: 100.0%;&quot;&gt;VAFB SLC-4E&lt;/div&gt;`)[0];\n            popup_6ac085452070e5534dd3d61c37e18852.setContent(html_e4dd9fccbadd2809c22106c82be5b709);\n        \n\n        circle_7dee330a5c3d6a48f10d970921bcda92.bindPopup(popup_6ac085452070e5534dd3d61c37e18852)\n        ;\n\n        \n    \n    \n            var marker_d97caf2db7aa85638f1f732b57553b7b = L.marker(\n                [34.632834, -120.610745],\n                {}\n            ).addTo(map_002155cd1c365779a3cad6ad01a0ad2e);\n        \n    \n            var div_icon_b774adb5a5d6c4926063243f6f3363bc = L.divIcon({&quot;className&quot;: &quot;empty&quot;, &quot;html&quot;: &quot;\\u003cdiv style=\\&quot;font-size: 12; color:#d35400;\\&quot;\\u003e\\u003cb\\u003eVAFB SLC-4E\\u003c/b\\u003e\\u003c/div\\u003e&quot;, &quot;iconAnchor&quot;: [0, 0], &quot;iconSize&quot;: [20, 20]});\n            marker_d97caf2db7aa85638f1f732b57553b7b.setIcon(div_icon_b774adb5a5d6c4926063243f6f3363bc);\n        \n&lt;/script&gt;\" style=\"position:absolute;width:100%;height:100%;left:0;top:0;border:none !important;\" allowfullscreen webkitallowfullscreen mozallowfullscreen></iframe></div></div>",
                        "text/plain": "<folium.folium.Map at 0x7fdb9d7b15e0>"
                    },
                    "execution_count": 8,
                    "metadata": {},
                    "output_type": "execute_result"
                }
            ],
            "source": "# Initial the map\nsite_map = folium.Map(location=nasa_coordinate, zoom_start=5)\n# For each launch site, add a Circle object based on its coordinate (Lat, Long) values. In addition, add Launch site name as a popup label\nccafs_lc40 = [28.562302, -80.577356]\nccafs_slc40 = [28.563197, -80.576820]\nksc = [28.573255, -80.646895]\nvafb = [34.632834, -120.610745]\ncircle2 = folium.Circle(ccafs_lc40, radius=1000, color='#d35400', fill=True).add_child(folium.Popup('CCAFS LC-40 '))\ncircle3 = folium.Circle(ccafs_slc40, radius=1000, color='#d35400', fill=True).add_child(folium.Popup('CCAFS SLC-40'))\ncircle4 = folium.Circle(ksc, radius=1000, color='#d35400', fill=True).add_child(folium.Popup('KSC LC-39A'))\ncircle5 = folium.Circle(vafb, radius=1000, color='#d35400', fill=True).add_child(folium.Popup('VAFB SLC-4E'))\n\nmarker2 = folium.map.Marker(\n    ccafs_lc40,\n    # Create an icon as a text label\n    icon=DivIcon(\n        icon_size=(20,20),\n        icon_anchor=(0,0),\n        html='<div style=\"font-size: 12; color:#d35400;\"><b>%s</b></div>' % 'CCAFS LC-40',\n        )\n    )\n\nmarker3 = folium.map.Marker(\n    ccafs_slc40,\n    # Create an icon as a text label\n    icon=DivIcon(\n        icon_size=(20,20),\n        icon_anchor=(0,0),\n        html='<div style=\"font-size: 12; color:#d35400;\"><b>%s</b></div>' % 'CCAFS SLC-40',\n        )\n    )\n\nmarker4 = folium.map.Marker(\n    ksc,\n    # Create an icon as a text label\n    icon=DivIcon(\n        icon_size=(20,20),\n        icon_anchor=(0,0),\n        html='<div style=\"font-size: 12; color:#d35400;\"><b>%s</b></div>' % 'KSC LC-39A',\n        )\n    )\n\nmarker5 = folium.map.Marker(\n    vafb,\n    # Create an icon as a text label\n    icon=DivIcon(\n        icon_size=(20,20),\n        icon_anchor=(0,0),\n        html='<div style=\"font-size: 12; color:#d35400;\"><b>%s</b></div>' % 'VAFB SLC-4E',\n        )\n    )\n\nsite_map.add_child(circle2)\nsite_map.add_child(marker2)\nsite_map.add_child(circle3)\nsite_map.add_child(marker3)\nsite_map.add_child(circle4)\nsite_map.add_child(marker4)\nsite_map.add_child(circle5)\nsite_map.add_child(marker5)"
        },
        {
            "cell_type": "markdown",
            "metadata": {},
            "source": "The generated map with marked launch sites should look similar to the following:\n"
        },
        {
            "cell_type": "markdown",
            "metadata": {},
            "source": "<center>\n    <img src=\"https://cf-courses-data.s3.us.cloud-object-storage.appdomain.cloud/IBM-DS0321EN-SkillsNetwork/labs/module_3/images/launch_site_markers.png\" />\n</center>\n"
        },
        {
            "cell_type": "markdown",
            "metadata": {},
            "source": "Now, you can explore the map by zoom-in/out the marked areas\n, and try to answer the following questions:\n\n*   Are all launch sites in proximity to the Equator line?\n*   Are all launch sites in very close proximity to the coast?\n\nAlso please try to explain your findings.\n"
        },
        {
            "cell_type": "markdown",
            "metadata": {},
            "source": "# Task 2: Mark the success/failed launches for each site on the map\n"
        },
        {
            "cell_type": "markdown",
            "metadata": {},
            "source": "Next, let's try to enhance the map by adding the launch outcomes for each site, and see which sites have high success rates.\nRecall that data frame spacex_df has detailed launch records, and the `class` column indicates if this launch was successful or not\n"
        },
        {
            "cell_type": "code",
            "execution_count": 9,
            "metadata": {},
            "outputs": [
                {
                    "data": {
                        "text/html": "<div>\n<style scoped>\n    .dataframe tbody tr th:only-of-type {\n        vertical-align: middle;\n    }\n\n    .dataframe tbody tr th {\n        vertical-align: top;\n    }\n\n    .dataframe thead th {\n        text-align: right;\n    }\n</style>\n<table border=\"1\" class=\"dataframe\">\n  <thead>\n    <tr style=\"text-align: right;\">\n      <th></th>\n      <th>Launch Site</th>\n      <th>Lat</th>\n      <th>Long</th>\n      <th>class</th>\n    </tr>\n  </thead>\n  <tbody>\n    <tr>\n      <th>46</th>\n      <td>KSC LC-39A</td>\n      <td>28.573255</td>\n      <td>-80.646895</td>\n      <td>1</td>\n    </tr>\n    <tr>\n      <th>47</th>\n      <td>KSC LC-39A</td>\n      <td>28.573255</td>\n      <td>-80.646895</td>\n      <td>1</td>\n    </tr>\n    <tr>\n      <th>48</th>\n      <td>KSC LC-39A</td>\n      <td>28.573255</td>\n      <td>-80.646895</td>\n      <td>1</td>\n    </tr>\n    <tr>\n      <th>49</th>\n      <td>CCAFS SLC-40</td>\n      <td>28.563197</td>\n      <td>-80.576820</td>\n      <td>1</td>\n    </tr>\n    <tr>\n      <th>50</th>\n      <td>CCAFS SLC-40</td>\n      <td>28.563197</td>\n      <td>-80.576820</td>\n      <td>1</td>\n    </tr>\n    <tr>\n      <th>51</th>\n      <td>CCAFS SLC-40</td>\n      <td>28.563197</td>\n      <td>-80.576820</td>\n      <td>0</td>\n    </tr>\n    <tr>\n      <th>52</th>\n      <td>CCAFS SLC-40</td>\n      <td>28.563197</td>\n      <td>-80.576820</td>\n      <td>0</td>\n    </tr>\n    <tr>\n      <th>53</th>\n      <td>CCAFS SLC-40</td>\n      <td>28.563197</td>\n      <td>-80.576820</td>\n      <td>0</td>\n    </tr>\n    <tr>\n      <th>54</th>\n      <td>CCAFS SLC-40</td>\n      <td>28.563197</td>\n      <td>-80.576820</td>\n      <td>1</td>\n    </tr>\n    <tr>\n      <th>55</th>\n      <td>CCAFS SLC-40</td>\n      <td>28.563197</td>\n      <td>-80.576820</td>\n      <td>0</td>\n    </tr>\n  </tbody>\n</table>\n</div>",
                        "text/plain": "     Launch Site        Lat       Long  class\n46    KSC LC-39A  28.573255 -80.646895      1\n47    KSC LC-39A  28.573255 -80.646895      1\n48    KSC LC-39A  28.573255 -80.646895      1\n49  CCAFS SLC-40  28.563197 -80.576820      1\n50  CCAFS SLC-40  28.563197 -80.576820      1\n51  CCAFS SLC-40  28.563197 -80.576820      0\n52  CCAFS SLC-40  28.563197 -80.576820      0\n53  CCAFS SLC-40  28.563197 -80.576820      0\n54  CCAFS SLC-40  28.563197 -80.576820      1\n55  CCAFS SLC-40  28.563197 -80.576820      0"
                    },
                    "execution_count": 9,
                    "metadata": {},
                    "output_type": "execute_result"
                }
            ],
            "source": "spacex_df.tail(10)"
        },
        {
            "cell_type": "markdown",
            "metadata": {},
            "source": "Next, let's create markers for all launch records.\nIf a launch was successful `(class=1)`, then we use a green marker and if a launch was failed, we use a red marker `(class=0)`\n"
        },
        {
            "cell_type": "markdown",
            "metadata": {},
            "source": "Note that a launch only happens in one of the four launch sites, which means many launch records will have the exact same coordinate. Marker clusters can be a good way to simplify a map containing many markers having the same coordinate.\n"
        },
        {
            "cell_type": "markdown",
            "metadata": {},
            "source": "Let's first create a `MarkerCluster` object\n"
        },
        {
            "cell_type": "code",
            "execution_count": 10,
            "metadata": {
                "id": "wP9PVUZ7Jfjt",
                "outputId": "6a3b8164-940c-4b93-9f3d-c655c4a0c683",
                "papermill": {
                    "duration": 0.904519,
                    "end_time": "2020-09-19T06:27:38.357041",
                    "exception": false,
                    "start_time": "2020-09-19T06:27:37.452522",
                    "status": "completed"
                },
                "tags": []
            },
            "outputs": [],
            "source": "marker_cluster = MarkerCluster()\n"
        },
        {
            "cell_type": "markdown",
            "metadata": {},
            "source": "*TODO:* Create a new column in `launch_sites` dataframe called `marker_color` to store the marker colors based on the `class` value\n"
        },
        {
            "cell_type": "code",
            "execution_count": 21,
            "metadata": {},
            "outputs": [],
            "source": "\n# Apply a function to check the value of `class` column\n# If class=1, marker_color value will be green\n# If class=0, marker_color value will be red\nmarker_color = [0, 0, 0, 0]\nlaunch_sites_df[\"marker_color\"] = marker_color"
        },
        {
            "cell_type": "code",
            "execution_count": 22,
            "metadata": {},
            "outputs": [
                {
                    "data": {
                        "text/html": "<div>\n<style scoped>\n    .dataframe tbody tr th:only-of-type {\n        vertical-align: middle;\n    }\n\n    .dataframe tbody tr th {\n        vertical-align: top;\n    }\n\n    .dataframe thead th {\n        text-align: right;\n    }\n</style>\n<table border=\"1\" class=\"dataframe\">\n  <thead>\n    <tr style=\"text-align: right;\">\n      <th></th>\n      <th>Launch Site</th>\n      <th>Lat</th>\n      <th>Long</th>\n      <th>class</th>\n      <th>marker_color</th>\n    </tr>\n  </thead>\n  <tbody>\n    <tr>\n      <th>46</th>\n      <td>KSC LC-39A</td>\n      <td>28.573255</td>\n      <td>-80.646895</td>\n      <td>1</td>\n      <td>green</td>\n    </tr>\n    <tr>\n      <th>47</th>\n      <td>KSC LC-39A</td>\n      <td>28.573255</td>\n      <td>-80.646895</td>\n      <td>1</td>\n      <td>green</td>\n    </tr>\n    <tr>\n      <th>48</th>\n      <td>KSC LC-39A</td>\n      <td>28.573255</td>\n      <td>-80.646895</td>\n      <td>1</td>\n      <td>green</td>\n    </tr>\n    <tr>\n      <th>49</th>\n      <td>CCAFS SLC-40</td>\n      <td>28.563197</td>\n      <td>-80.576820</td>\n      <td>1</td>\n      <td>green</td>\n    </tr>\n    <tr>\n      <th>50</th>\n      <td>CCAFS SLC-40</td>\n      <td>28.563197</td>\n      <td>-80.576820</td>\n      <td>1</td>\n      <td>green</td>\n    </tr>\n    <tr>\n      <th>51</th>\n      <td>CCAFS SLC-40</td>\n      <td>28.563197</td>\n      <td>-80.576820</td>\n      <td>0</td>\n      <td>red</td>\n    </tr>\n    <tr>\n      <th>52</th>\n      <td>CCAFS SLC-40</td>\n      <td>28.563197</td>\n      <td>-80.576820</td>\n      <td>0</td>\n      <td>red</td>\n    </tr>\n    <tr>\n      <th>53</th>\n      <td>CCAFS SLC-40</td>\n      <td>28.563197</td>\n      <td>-80.576820</td>\n      <td>0</td>\n      <td>red</td>\n    </tr>\n    <tr>\n      <th>54</th>\n      <td>CCAFS SLC-40</td>\n      <td>28.563197</td>\n      <td>-80.576820</td>\n      <td>1</td>\n      <td>green</td>\n    </tr>\n    <tr>\n      <th>55</th>\n      <td>CCAFS SLC-40</td>\n      <td>28.563197</td>\n      <td>-80.576820</td>\n      <td>0</td>\n      <td>red</td>\n    </tr>\n  </tbody>\n</table>\n</div>",
                        "text/plain": "     Launch Site        Lat       Long  class marker_color\n46    KSC LC-39A  28.573255 -80.646895      1        green\n47    KSC LC-39A  28.573255 -80.646895      1        green\n48    KSC LC-39A  28.573255 -80.646895      1        green\n49  CCAFS SLC-40  28.563197 -80.576820      1        green\n50  CCAFS SLC-40  28.563197 -80.576820      1        green\n51  CCAFS SLC-40  28.563197 -80.576820      0          red\n52  CCAFS SLC-40  28.563197 -80.576820      0          red\n53  CCAFS SLC-40  28.563197 -80.576820      0          red\n54  CCAFS SLC-40  28.563197 -80.576820      1        green\n55  CCAFS SLC-40  28.563197 -80.576820      0          red"
                    },
                    "execution_count": 22,
                    "metadata": {},
                    "output_type": "execute_result"
                }
            ],
            "source": "# Function to assign color to launch outcome\ndef assign_marker_color(launch_outcome):\n    if launch_outcome == 1:\n        return 'green'\n    else:\n        return 'red'\n    \nspacex_df['marker_color'] = spacex_df['class'].apply(assign_marker_color)\nspacex_df.tail(10)"
        },
        {
            "cell_type": "markdown",
            "metadata": {},
            "source": "*TODO:* For each launch result in `spacex_df` data frame, add a `folium.Marker` to `marker_cluster`\n"
        },
        {
            "cell_type": "code",
            "execution_count": 24,
            "metadata": {
                "scrolled": true
            },
            "outputs": [
                {
                    "data": {
                        "text/html": "<div style=\"width:100%;\"><div style=\"position:relative;width:100%;height:0;padding-bottom:60%;\"><span style=\"color:#565656\">Make this Notebook Trusted to load map: File -> Trust Notebook</span><iframe srcdoc=\"&lt;!DOCTYPE html&gt;\n&lt;head&gt;    \n    &lt;meta http-equiv=&quot;content-type&quot; content=&quot;text/html; charset=UTF-8&quot; /&gt;\n    \n        &lt;script&gt;\n            L_NO_TOUCH = false;\n            L_DISABLE_3D = false;\n        &lt;/script&gt;\n    \n    &lt;style&gt;html, body {width: 100%;height: 100%;margin: 0;padding: 0;}&lt;/style&gt;\n    &lt;style&gt;#map {position:absolute;top:0;bottom:0;right:0;left:0;}&lt;/style&gt;\n    &lt;script src=&quot;https://cdn.jsdelivr.net/npm/leaflet@1.6.0/dist/leaflet.js&quot;&gt;&lt;/script&gt;\n    &lt;script src=&quot;https://code.jquery.com/jquery-1.12.4.min.js&quot;&gt;&lt;/script&gt;\n    &lt;script src=&quot;https://maxcdn.bootstrapcdn.com/bootstrap/3.2.0/js/bootstrap.min.js&quot;&gt;&lt;/script&gt;\n    &lt;script src=&quot;https://cdnjs.cloudflare.com/ajax/libs/Leaflet.awesome-markers/2.0.2/leaflet.awesome-markers.js&quot;&gt;&lt;/script&gt;\n    &lt;link rel=&quot;stylesheet&quot; href=&quot;https://cdn.jsdelivr.net/npm/leaflet@1.6.0/dist/leaflet.css&quot;/&gt;\n    &lt;link rel=&quot;stylesheet&quot; href=&quot;https://maxcdn.bootstrapcdn.com/bootstrap/3.2.0/css/bootstrap.min.css&quot;/&gt;\n    &lt;link rel=&quot;stylesheet&quot; href=&quot;https://maxcdn.bootstrapcdn.com/bootstrap/3.2.0/css/bootstrap-theme.min.css&quot;/&gt;\n    &lt;link rel=&quot;stylesheet&quot; href=&quot;https://maxcdn.bootstrapcdn.com/font-awesome/4.6.3/css/font-awesome.min.css&quot;/&gt;\n    &lt;link rel=&quot;stylesheet&quot; href=&quot;https://cdnjs.cloudflare.com/ajax/libs/Leaflet.awesome-markers/2.0.2/leaflet.awesome-markers.css&quot;/&gt;\n    &lt;link rel=&quot;stylesheet&quot; href=&quot;https://cdn.jsdelivr.net/gh/python-visualization/folium/folium/templates/leaflet.awesome.rotate.min.css&quot;/&gt;\n    \n            &lt;meta name=&quot;viewport&quot; content=&quot;width=device-width,\n                initial-scale=1.0, maximum-scale=1.0, user-scalable=no&quot; /&gt;\n            &lt;style&gt;\n                #map_002155cd1c365779a3cad6ad01a0ad2e {\n                    position: relative;\n                    width: 100.0%;\n                    height: 100.0%;\n                    left: 0.0%;\n                    top: 0.0%;\n                }\n            &lt;/style&gt;\n        \n    &lt;script src=&quot;https://cdnjs.cloudflare.com/ajax/libs/leaflet.markercluster/1.1.0/leaflet.markercluster.js&quot;&gt;&lt;/script&gt;\n    &lt;link rel=&quot;stylesheet&quot; href=&quot;https://cdnjs.cloudflare.com/ajax/libs/leaflet.markercluster/1.1.0/MarkerCluster.css&quot;/&gt;\n    &lt;link rel=&quot;stylesheet&quot; href=&quot;https://cdnjs.cloudflare.com/ajax/libs/leaflet.markercluster/1.1.0/MarkerCluster.Default.css&quot;/&gt;\n&lt;/head&gt;\n&lt;body&gt;    \n    \n            &lt;div class=&quot;folium-map&quot; id=&quot;map_002155cd1c365779a3cad6ad01a0ad2e&quot; &gt;&lt;/div&gt;\n        \n&lt;/body&gt;\n&lt;script&gt;    \n    \n            var map_002155cd1c365779a3cad6ad01a0ad2e = L.map(\n                &quot;map_002155cd1c365779a3cad6ad01a0ad2e&quot;,\n                {\n                    center: [29.559684888503615, -95.0830971930759],\n                    crs: L.CRS.EPSG3857,\n                    zoom: 5,\n                    zoomControl: true,\n                    preferCanvas: false,\n                }\n            );\n\n            \n\n        \n    \n            var tile_layer_c494422ee79ed2fce261ffc5bb5f0edc = L.tileLayer(\n                &quot;https://{s}.tile.openstreetmap.org/{z}/{x}/{y}.png&quot;,\n                {&quot;attribution&quot;: &quot;Data by \\u0026copy; \\u003ca href=\\&quot;http://openstreetmap.org\\&quot;\\u003eOpenStreetMap\\u003c/a\\u003e, under \\u003ca href=\\&quot;http://www.openstreetmap.org/copyright\\&quot;\\u003eODbL\\u003c/a\\u003e.&quot;, &quot;detectRetina&quot;: false, &quot;maxNativeZoom&quot;: 18, &quot;maxZoom&quot;: 18, &quot;minZoom&quot;: 0, &quot;noWrap&quot;: false, &quot;opacity&quot;: 1, &quot;subdomains&quot;: &quot;abc&quot;, &quot;tms&quot;: false}\n            ).addTo(map_002155cd1c365779a3cad6ad01a0ad2e);\n        \n    \n            var circle_ef69b7d7ff3810b655c3486ac34f61d1 = L.circle(\n                [28.562302, -80.577356],\n                {&quot;bubblingMouseEvents&quot;: true, &quot;color&quot;: &quot;#d35400&quot;, &quot;dashArray&quot;: null, &quot;dashOffset&quot;: null, &quot;fill&quot;: true, &quot;fillColor&quot;: &quot;#d35400&quot;, &quot;fillOpacity&quot;: 0.2, &quot;fillRule&quot;: &quot;evenodd&quot;, &quot;lineCap&quot;: &quot;round&quot;, &quot;lineJoin&quot;: &quot;round&quot;, &quot;opacity&quot;: 1.0, &quot;radius&quot;: 1000, &quot;stroke&quot;: true, &quot;weight&quot;: 3}\n            ).addTo(map_002155cd1c365779a3cad6ad01a0ad2e);\n        \n    \n        var popup_083baac520084cf6b96ff68e4e23434c = L.popup({&quot;maxWidth&quot;: &quot;100%&quot;});\n\n        \n            var html_a8fbbe295092856e4008df09bc052405 = $(`&lt;div id=&quot;html_a8fbbe295092856e4008df09bc052405&quot; style=&quot;width: 100.0%; height: 100.0%;&quot;&gt;CCAFS LC-40 &lt;/div&gt;`)[0];\n            popup_083baac520084cf6b96ff68e4e23434c.setContent(html_a8fbbe295092856e4008df09bc052405);\n        \n\n        circle_ef69b7d7ff3810b655c3486ac34f61d1.bindPopup(popup_083baac520084cf6b96ff68e4e23434c)\n        ;\n\n        \n    \n    \n            var marker_2a368fac01e39dd1e5fdd4f23484cfc2 = L.marker(\n                [28.562302, -80.577356],\n                {}\n            ).addTo(map_002155cd1c365779a3cad6ad01a0ad2e);\n        \n    \n            var div_icon_267508f1c5bf4aa85b0dbb12cdf28ba8 = L.divIcon({&quot;className&quot;: &quot;empty&quot;, &quot;html&quot;: &quot;\\u003cdiv style=\\&quot;font-size: 12; color:#d35400;\\&quot;\\u003e\\u003cb\\u003eCCAFS LC-40\\u003c/b\\u003e\\u003c/div\\u003e&quot;, &quot;iconAnchor&quot;: [0, 0], &quot;iconSize&quot;: [20, 20]});\n            marker_2a368fac01e39dd1e5fdd4f23484cfc2.setIcon(div_icon_267508f1c5bf4aa85b0dbb12cdf28ba8);\n        \n    \n            var circle_51b8d2358545c91f84cbb0fcab84f316 = L.circle(\n                [28.563197, -80.57682],\n                {&quot;bubblingMouseEvents&quot;: true, &quot;color&quot;: &quot;#d35400&quot;, &quot;dashArray&quot;: null, &quot;dashOffset&quot;: null, &quot;fill&quot;: true, &quot;fillColor&quot;: &quot;#d35400&quot;, &quot;fillOpacity&quot;: 0.2, &quot;fillRule&quot;: &quot;evenodd&quot;, &quot;lineCap&quot;: &quot;round&quot;, &quot;lineJoin&quot;: &quot;round&quot;, &quot;opacity&quot;: 1.0, &quot;radius&quot;: 1000, &quot;stroke&quot;: true, &quot;weight&quot;: 3}\n            ).addTo(map_002155cd1c365779a3cad6ad01a0ad2e);\n        \n    \n        var popup_6189350099faff6b226224357f9b22cd = L.popup({&quot;maxWidth&quot;: &quot;100%&quot;});\n\n        \n            var html_842c4ce224ba82954bd6e7e5dc9cc486 = $(`&lt;div id=&quot;html_842c4ce224ba82954bd6e7e5dc9cc486&quot; style=&quot;width: 100.0%; height: 100.0%;&quot;&gt;CCAFS SLC-40&lt;/div&gt;`)[0];\n            popup_6189350099faff6b226224357f9b22cd.setContent(html_842c4ce224ba82954bd6e7e5dc9cc486);\n        \n\n        circle_51b8d2358545c91f84cbb0fcab84f316.bindPopup(popup_6189350099faff6b226224357f9b22cd)\n        ;\n\n        \n    \n    \n            var marker_8c839508e2185d399c4d4f70d58a2a4d = L.marker(\n                [28.563197, -80.57682],\n                {}\n            ).addTo(map_002155cd1c365779a3cad6ad01a0ad2e);\n        \n    \n            var div_icon_91dd4585edd3aacfac94291cbd5c39ec = L.divIcon({&quot;className&quot;: &quot;empty&quot;, &quot;html&quot;: &quot;\\u003cdiv style=\\&quot;font-size: 12; color:#d35400;\\&quot;\\u003e\\u003cb\\u003eCCAFS SLC-40\\u003c/b\\u003e\\u003c/div\\u003e&quot;, &quot;iconAnchor&quot;: [0, 0], &quot;iconSize&quot;: [20, 20]});\n            marker_8c839508e2185d399c4d4f70d58a2a4d.setIcon(div_icon_91dd4585edd3aacfac94291cbd5c39ec);\n        \n    \n            var circle_446c5fc07908bb1bcff53718c404845d = L.circle(\n                [28.573255, -80.646895],\n                {&quot;bubblingMouseEvents&quot;: true, &quot;color&quot;: &quot;#d35400&quot;, &quot;dashArray&quot;: null, &quot;dashOffset&quot;: null, &quot;fill&quot;: true, &quot;fillColor&quot;: &quot;#d35400&quot;, &quot;fillOpacity&quot;: 0.2, &quot;fillRule&quot;: &quot;evenodd&quot;, &quot;lineCap&quot;: &quot;round&quot;, &quot;lineJoin&quot;: &quot;round&quot;, &quot;opacity&quot;: 1.0, &quot;radius&quot;: 1000, &quot;stroke&quot;: true, &quot;weight&quot;: 3}\n            ).addTo(map_002155cd1c365779a3cad6ad01a0ad2e);\n        \n    \n        var popup_8770c193dc69d904ffd6658dd89a395a = L.popup({&quot;maxWidth&quot;: &quot;100%&quot;});\n\n        \n            var html_3a08e40ddcacd4620b345d1d9f5cba9c = $(`&lt;div id=&quot;html_3a08e40ddcacd4620b345d1d9f5cba9c&quot; style=&quot;width: 100.0%; height: 100.0%;&quot;&gt;KSC LC-39A&lt;/div&gt;`)[0];\n            popup_8770c193dc69d904ffd6658dd89a395a.setContent(html_3a08e40ddcacd4620b345d1d9f5cba9c);\n        \n\n        circle_446c5fc07908bb1bcff53718c404845d.bindPopup(popup_8770c193dc69d904ffd6658dd89a395a)\n        ;\n\n        \n    \n    \n            var marker_1feddcb1db04cf535942b11ed74385ef = L.marker(\n                [28.573255, -80.646895],\n                {}\n            ).addTo(map_002155cd1c365779a3cad6ad01a0ad2e);\n        \n    \n            var div_icon_03d35d5266493a56689b0ad78023012a = L.divIcon({&quot;className&quot;: &quot;empty&quot;, &quot;html&quot;: &quot;\\u003cdiv style=\\&quot;font-size: 12; color:#d35400;\\&quot;\\u003e\\u003cb\\u003eKSC LC-39A\\u003c/b\\u003e\\u003c/div\\u003e&quot;, &quot;iconAnchor&quot;: [0, 0], &quot;iconSize&quot;: [20, 20]});\n            marker_1feddcb1db04cf535942b11ed74385ef.setIcon(div_icon_03d35d5266493a56689b0ad78023012a);\n        \n    \n            var circle_7dee330a5c3d6a48f10d970921bcda92 = L.circle(\n                [34.632834, -120.610745],\n                {&quot;bubblingMouseEvents&quot;: true, &quot;color&quot;: &quot;#d35400&quot;, &quot;dashArray&quot;: null, &quot;dashOffset&quot;: null, &quot;fill&quot;: true, &quot;fillColor&quot;: &quot;#d35400&quot;, &quot;fillOpacity&quot;: 0.2, &quot;fillRule&quot;: &quot;evenodd&quot;, &quot;lineCap&quot;: &quot;round&quot;, &quot;lineJoin&quot;: &quot;round&quot;, &quot;opacity&quot;: 1.0, &quot;radius&quot;: 1000, &quot;stroke&quot;: true, &quot;weight&quot;: 3}\n            ).addTo(map_002155cd1c365779a3cad6ad01a0ad2e);\n        \n    \n        var popup_6ac085452070e5534dd3d61c37e18852 = L.popup({&quot;maxWidth&quot;: &quot;100%&quot;});\n\n        \n            var html_e4dd9fccbadd2809c22106c82be5b709 = $(`&lt;div id=&quot;html_e4dd9fccbadd2809c22106c82be5b709&quot; style=&quot;width: 100.0%; height: 100.0%;&quot;&gt;VAFB SLC-4E&lt;/div&gt;`)[0];\n            popup_6ac085452070e5534dd3d61c37e18852.setContent(html_e4dd9fccbadd2809c22106c82be5b709);\n        \n\n        circle_7dee330a5c3d6a48f10d970921bcda92.bindPopup(popup_6ac085452070e5534dd3d61c37e18852)\n        ;\n\n        \n    \n    \n            var marker_d97caf2db7aa85638f1f732b57553b7b = L.marker(\n                [34.632834, -120.610745],\n                {}\n            ).addTo(map_002155cd1c365779a3cad6ad01a0ad2e);\n        \n    \n            var div_icon_b774adb5a5d6c4926063243f6f3363bc = L.divIcon({&quot;className&quot;: &quot;empty&quot;, &quot;html&quot;: &quot;\\u003cdiv style=\\&quot;font-size: 12; color:#d35400;\\&quot;\\u003e\\u003cb\\u003eVAFB SLC-4E\\u003c/b\\u003e\\u003c/div\\u003e&quot;, &quot;iconAnchor&quot;: [0, 0], &quot;iconSize&quot;: [20, 20]});\n            marker_d97caf2db7aa85638f1f732b57553b7b.setIcon(div_icon_b774adb5a5d6c4926063243f6f3363bc);\n        \n    \n            var marker_cluster_feac3ab1f750bdfcc7d48b54dd41d982 = L.markerClusterGroup(\n                {}\n            );\n            map_002155cd1c365779a3cad6ad01a0ad2e.addLayer(marker_cluster_feac3ab1f750bdfcc7d48b54dd41d982);\n        \n    \n            var marker_313df6e8ec900a0916319280b1853ae6 = L.marker(\n                [28.56230197, -80.57735648],\n                {}\n            ).addTo(marker_cluster_feac3ab1f750bdfcc7d48b54dd41d982);\n        \n    \n            var icon_08df7f0ed1ca5c38b65f4833bc91e343 = L.AwesomeMarkers.icon(\n                {&quot;extraClasses&quot;: &quot;fa-rotate-0&quot;, &quot;icon&quot;: &quot;info-sign&quot;, &quot;iconColor&quot;: &quot;red&quot;, &quot;markerColor&quot;: &quot;white&quot;, &quot;prefix&quot;: &quot;glyphicon&quot;}\n            );\n            marker_313df6e8ec900a0916319280b1853ae6.setIcon(icon_08df7f0ed1ca5c38b65f4833bc91e343);\n        \n    \n            var marker_79712f0851535d35deaa2954bf8e75e6 = L.marker(\n                [28.56230197, -80.57735648],\n                {}\n            ).addTo(marker_cluster_feac3ab1f750bdfcc7d48b54dd41d982);\n        \n    \n            var icon_b3c2f2002103e767894bb18cd9a771d9 = L.AwesomeMarkers.icon(\n                {&quot;extraClasses&quot;: &quot;fa-rotate-0&quot;, &quot;icon&quot;: &quot;info-sign&quot;, &quot;iconColor&quot;: &quot;red&quot;, &quot;markerColor&quot;: &quot;white&quot;, &quot;prefix&quot;: &quot;glyphicon&quot;}\n            );\n            marker_79712f0851535d35deaa2954bf8e75e6.setIcon(icon_b3c2f2002103e767894bb18cd9a771d9);\n        \n    \n            var marker_5a8bf5f30f27898e03c24394182be68c = L.marker(\n                [28.56230197, -80.57735648],\n                {}\n            ).addTo(marker_cluster_feac3ab1f750bdfcc7d48b54dd41d982);\n        \n    \n            var icon_2a21ccee9dde4828f4b5375a479151d0 = L.AwesomeMarkers.icon(\n                {&quot;extraClasses&quot;: &quot;fa-rotate-0&quot;, &quot;icon&quot;: &quot;info-sign&quot;, &quot;iconColor&quot;: &quot;red&quot;, &quot;markerColor&quot;: &quot;white&quot;, &quot;prefix&quot;: &quot;glyphicon&quot;}\n            );\n            marker_5a8bf5f30f27898e03c24394182be68c.setIcon(icon_2a21ccee9dde4828f4b5375a479151d0);\n        \n    \n            var marker_a4d972aa1920ebdb18b0cf4384cc4795 = L.marker(\n                [28.56230197, -80.57735648],\n                {}\n            ).addTo(marker_cluster_feac3ab1f750bdfcc7d48b54dd41d982);\n        \n    \n            var icon_890eb65c1c4a850d72f2b5bf3a0fec9c = L.AwesomeMarkers.icon(\n                {&quot;extraClasses&quot;: &quot;fa-rotate-0&quot;, &quot;icon&quot;: &quot;info-sign&quot;, &quot;iconColor&quot;: &quot;red&quot;, &quot;markerColor&quot;: &quot;white&quot;, &quot;prefix&quot;: &quot;glyphicon&quot;}\n            );\n            marker_a4d972aa1920ebdb18b0cf4384cc4795.setIcon(icon_890eb65c1c4a850d72f2b5bf3a0fec9c);\n        \n    \n            var marker_1e6c8e9349b0f9b632c49c0baf89e3b9 = L.marker(\n                [28.56230197, -80.57735648],\n                {}\n            ).addTo(marker_cluster_feac3ab1f750bdfcc7d48b54dd41d982);\n        \n    \n            var icon_01bef1a7d9c42d7a1ed13877bcec8549 = L.AwesomeMarkers.icon(\n                {&quot;extraClasses&quot;: &quot;fa-rotate-0&quot;, &quot;icon&quot;: &quot;info-sign&quot;, &quot;iconColor&quot;: &quot;red&quot;, &quot;markerColor&quot;: &quot;white&quot;, &quot;prefix&quot;: &quot;glyphicon&quot;}\n            );\n            marker_1e6c8e9349b0f9b632c49c0baf89e3b9.setIcon(icon_01bef1a7d9c42d7a1ed13877bcec8549);\n        \n    \n            var marker_af3f44e422b3eb5de805a8dc6470af61 = L.marker(\n                [28.56230197, -80.57735648],\n                {}\n            ).addTo(marker_cluster_feac3ab1f750bdfcc7d48b54dd41d982);\n        \n    \n            var icon_1bd9793a6d6bb007b00bd912e95a101a = L.AwesomeMarkers.icon(\n                {&quot;extraClasses&quot;: &quot;fa-rotate-0&quot;, &quot;icon&quot;: &quot;info-sign&quot;, &quot;iconColor&quot;: &quot;red&quot;, &quot;markerColor&quot;: &quot;white&quot;, &quot;prefix&quot;: &quot;glyphicon&quot;}\n            );\n            marker_af3f44e422b3eb5de805a8dc6470af61.setIcon(icon_1bd9793a6d6bb007b00bd912e95a101a);\n        \n    \n            var marker_ce9bf5a9eef411086673a5dd67df00ee = L.marker(\n                [28.56230197, -80.57735648],\n                {}\n            ).addTo(marker_cluster_feac3ab1f750bdfcc7d48b54dd41d982);\n        \n    \n            var icon_263502a785bf73ec548f9c1eaf36fcc9 = L.AwesomeMarkers.icon(\n                {&quot;extraClasses&quot;: &quot;fa-rotate-0&quot;, &quot;icon&quot;: &quot;info-sign&quot;, &quot;iconColor&quot;: &quot;red&quot;, &quot;markerColor&quot;: &quot;white&quot;, &quot;prefix&quot;: &quot;glyphicon&quot;}\n            );\n            marker_ce9bf5a9eef411086673a5dd67df00ee.setIcon(icon_263502a785bf73ec548f9c1eaf36fcc9);\n        \n    \n            var marker_451fa29cf6685e5b3b3655a9ae007c1a = L.marker(\n                [28.56230197, -80.57735648],\n                {}\n            ).addTo(marker_cluster_feac3ab1f750bdfcc7d48b54dd41d982);\n        \n    \n            var icon_9e77f74f9207c5fd50938c5295e0af7c = L.AwesomeMarkers.icon(\n                {&quot;extraClasses&quot;: &quot;fa-rotate-0&quot;, &quot;icon&quot;: &quot;info-sign&quot;, &quot;iconColor&quot;: &quot;red&quot;, &quot;markerColor&quot;: &quot;white&quot;, &quot;prefix&quot;: &quot;glyphicon&quot;}\n            );\n            marker_451fa29cf6685e5b3b3655a9ae007c1a.setIcon(icon_9e77f74f9207c5fd50938c5295e0af7c);\n        \n    \n            var marker_2ab7e7c6dd90b7ad634443d32af92efb = L.marker(\n                [28.56230197, -80.57735648],\n                {}\n            ).addTo(marker_cluster_feac3ab1f750bdfcc7d48b54dd41d982);\n        \n    \n            var icon_097ad75e6a836aa4c2186c55e9e17d8b = L.AwesomeMarkers.icon(\n                {&quot;extraClasses&quot;: &quot;fa-rotate-0&quot;, &quot;icon&quot;: &quot;info-sign&quot;, &quot;iconColor&quot;: &quot;red&quot;, &quot;markerColor&quot;: &quot;white&quot;, &quot;prefix&quot;: &quot;glyphicon&quot;}\n            );\n            marker_2ab7e7c6dd90b7ad634443d32af92efb.setIcon(icon_097ad75e6a836aa4c2186c55e9e17d8b);\n        \n    \n            var marker_f05c93668945fc206ab6bc980b71582a = L.marker(\n                [28.56230197, -80.57735648],\n                {}\n            ).addTo(marker_cluster_feac3ab1f750bdfcc7d48b54dd41d982);\n        \n    \n            var icon_4791aeb4b50621b8213fa583e23d607e = L.AwesomeMarkers.icon(\n                {&quot;extraClasses&quot;: &quot;fa-rotate-0&quot;, &quot;icon&quot;: &quot;info-sign&quot;, &quot;iconColor&quot;: &quot;red&quot;, &quot;markerColor&quot;: &quot;white&quot;, &quot;prefix&quot;: &quot;glyphicon&quot;}\n            );\n            marker_f05c93668945fc206ab6bc980b71582a.setIcon(icon_4791aeb4b50621b8213fa583e23d607e);\n        \n    \n            var marker_815fc52ff53c20f40490594dd2d9abe5 = L.marker(\n                [28.56230197, -80.57735648],\n                {}\n            ).addTo(marker_cluster_feac3ab1f750bdfcc7d48b54dd41d982);\n        \n    \n            var icon_90674ceaa245130db27054a55feaeb76 = L.AwesomeMarkers.icon(\n                {&quot;extraClasses&quot;: &quot;fa-rotate-0&quot;, &quot;icon&quot;: &quot;info-sign&quot;, &quot;iconColor&quot;: &quot;red&quot;, &quot;markerColor&quot;: &quot;white&quot;, &quot;prefix&quot;: &quot;glyphicon&quot;}\n            );\n            marker_815fc52ff53c20f40490594dd2d9abe5.setIcon(icon_90674ceaa245130db27054a55feaeb76);\n        \n    \n            var marker_f9a82492f35fa531ed5acc7c19068e68 = L.marker(\n                [28.56230197, -80.57735648],\n                {}\n            ).addTo(marker_cluster_feac3ab1f750bdfcc7d48b54dd41d982);\n        \n    \n            var icon_370afb7b1e6f70e76cc44fc6d99e9bfe = L.AwesomeMarkers.icon(\n                {&quot;extraClasses&quot;: &quot;fa-rotate-0&quot;, &quot;icon&quot;: &quot;info-sign&quot;, &quot;iconColor&quot;: &quot;red&quot;, &quot;markerColor&quot;: &quot;white&quot;, &quot;prefix&quot;: &quot;glyphicon&quot;}\n            );\n            marker_f9a82492f35fa531ed5acc7c19068e68.setIcon(icon_370afb7b1e6f70e76cc44fc6d99e9bfe);\n        \n    \n            var marker_5f096b48f51bdaccb2817b1c4d02b3dc = L.marker(\n                [28.56230197, -80.57735648],\n                {}\n            ).addTo(marker_cluster_feac3ab1f750bdfcc7d48b54dd41d982);\n        \n    \n            var icon_e80a95468f957f03f7414a2953b478fe = L.AwesomeMarkers.icon(\n                {&quot;extraClasses&quot;: &quot;fa-rotate-0&quot;, &quot;icon&quot;: &quot;info-sign&quot;, &quot;iconColor&quot;: &quot;red&quot;, &quot;markerColor&quot;: &quot;white&quot;, &quot;prefix&quot;: &quot;glyphicon&quot;}\n            );\n            marker_5f096b48f51bdaccb2817b1c4d02b3dc.setIcon(icon_e80a95468f957f03f7414a2953b478fe);\n        \n    \n            var marker_c11e48322ff44df01540b9d301a9a339 = L.marker(\n                [28.56230197, -80.57735648],\n                {}\n            ).addTo(marker_cluster_feac3ab1f750bdfcc7d48b54dd41d982);\n        \n    \n            var icon_fd11a8e7b835970cdfb5a9d79b49c6fb = L.AwesomeMarkers.icon(\n                {&quot;extraClasses&quot;: &quot;fa-rotate-0&quot;, &quot;icon&quot;: &quot;info-sign&quot;, &quot;iconColor&quot;: &quot;red&quot;, &quot;markerColor&quot;: &quot;white&quot;, &quot;prefix&quot;: &quot;glyphicon&quot;}\n            );\n            marker_c11e48322ff44df01540b9d301a9a339.setIcon(icon_fd11a8e7b835970cdfb5a9d79b49c6fb);\n        \n    \n            var marker_9373a5c7445b8219b638b6f9fa1960f6 = L.marker(\n                [28.56230197, -80.57735648],\n                {}\n            ).addTo(marker_cluster_feac3ab1f750bdfcc7d48b54dd41d982);\n        \n    \n            var icon_4d66b87efc43570487684a882c92e023 = L.AwesomeMarkers.icon(\n                {&quot;extraClasses&quot;: &quot;fa-rotate-0&quot;, &quot;icon&quot;: &quot;info-sign&quot;, &quot;iconColor&quot;: &quot;red&quot;, &quot;markerColor&quot;: &quot;white&quot;, &quot;prefix&quot;: &quot;glyphicon&quot;}\n            );\n            marker_9373a5c7445b8219b638b6f9fa1960f6.setIcon(icon_4d66b87efc43570487684a882c92e023);\n        \n    \n            var marker_2bcfe168a9fd10facd5f3452f0ebbfee = L.marker(\n                [28.56230197, -80.57735648],\n                {}\n            ).addTo(marker_cluster_feac3ab1f750bdfcc7d48b54dd41d982);\n        \n    \n            var icon_f61f7e3872af93065f622db872810281 = L.AwesomeMarkers.icon(\n                {&quot;extraClasses&quot;: &quot;fa-rotate-0&quot;, &quot;icon&quot;: &quot;info-sign&quot;, &quot;iconColor&quot;: &quot;red&quot;, &quot;markerColor&quot;: &quot;white&quot;, &quot;prefix&quot;: &quot;glyphicon&quot;}\n            );\n            marker_2bcfe168a9fd10facd5f3452f0ebbfee.setIcon(icon_f61f7e3872af93065f622db872810281);\n        \n    \n            var marker_85edaaa99e4b8f6619681798984a1ec3 = L.marker(\n                [28.56230197, -80.57735648],\n                {}\n            ).addTo(marker_cluster_feac3ab1f750bdfcc7d48b54dd41d982);\n        \n    \n            var icon_4dd7302bfd34eb5029ec9ed6b3f22716 = L.AwesomeMarkers.icon(\n                {&quot;extraClasses&quot;: &quot;fa-rotate-0&quot;, &quot;icon&quot;: &quot;info-sign&quot;, &quot;iconColor&quot;: &quot;red&quot;, &quot;markerColor&quot;: &quot;white&quot;, &quot;prefix&quot;: &quot;glyphicon&quot;}\n            );\n            marker_85edaaa99e4b8f6619681798984a1ec3.setIcon(icon_4dd7302bfd34eb5029ec9ed6b3f22716);\n        \n    \n            var marker_9a007924b8dc2b100acca9003d02fe0d = L.marker(\n                [28.56230197, -80.57735648],\n                {}\n            ).addTo(marker_cluster_feac3ab1f750bdfcc7d48b54dd41d982);\n        \n    \n            var icon_defad877d8a43edf400636017bcdb057 = L.AwesomeMarkers.icon(\n                {&quot;extraClasses&quot;: &quot;fa-rotate-0&quot;, &quot;icon&quot;: &quot;info-sign&quot;, &quot;iconColor&quot;: &quot;green&quot;, &quot;markerColor&quot;: &quot;white&quot;, &quot;prefix&quot;: &quot;glyphicon&quot;}\n            );\n            marker_9a007924b8dc2b100acca9003d02fe0d.setIcon(icon_defad877d8a43edf400636017bcdb057);\n        \n    \n            var marker_c138a692c4ecb257939456f2ce1bb1bc = L.marker(\n                [28.56230197, -80.57735648],\n                {}\n            ).addTo(marker_cluster_feac3ab1f750bdfcc7d48b54dd41d982);\n        \n    \n            var icon_76eee878c8a5191e35e50052600a562e = L.AwesomeMarkers.icon(\n                {&quot;extraClasses&quot;: &quot;fa-rotate-0&quot;, &quot;icon&quot;: &quot;info-sign&quot;, &quot;iconColor&quot;: &quot;green&quot;, &quot;markerColor&quot;: &quot;white&quot;, &quot;prefix&quot;: &quot;glyphicon&quot;}\n            );\n            marker_c138a692c4ecb257939456f2ce1bb1bc.setIcon(icon_76eee878c8a5191e35e50052600a562e);\n        \n    \n            var marker_a21039df1bf866c8e4b5d9601449e072 = L.marker(\n                [28.56230197, -80.57735648],\n                {}\n            ).addTo(marker_cluster_feac3ab1f750bdfcc7d48b54dd41d982);\n        \n    \n            var icon_84f7fac059d868647cb4847953d5333b = L.AwesomeMarkers.icon(\n                {&quot;extraClasses&quot;: &quot;fa-rotate-0&quot;, &quot;icon&quot;: &quot;info-sign&quot;, &quot;iconColor&quot;: &quot;red&quot;, &quot;markerColor&quot;: &quot;white&quot;, &quot;prefix&quot;: &quot;glyphicon&quot;}\n            );\n            marker_a21039df1bf866c8e4b5d9601449e072.setIcon(icon_84f7fac059d868647cb4847953d5333b);\n        \n    \n            var marker_861e41e7c77dff3b635804ecf704592a = L.marker(\n                [28.56230197, -80.57735648],\n                {}\n            ).addTo(marker_cluster_feac3ab1f750bdfcc7d48b54dd41d982);\n        \n    \n            var icon_61b8865cc167889a59deeb85ecd79a0b = L.AwesomeMarkers.icon(\n                {&quot;extraClasses&quot;: &quot;fa-rotate-0&quot;, &quot;icon&quot;: &quot;info-sign&quot;, &quot;iconColor&quot;: &quot;green&quot;, &quot;markerColor&quot;: &quot;white&quot;, &quot;prefix&quot;: &quot;glyphicon&quot;}\n            );\n            marker_861e41e7c77dff3b635804ecf704592a.setIcon(icon_61b8865cc167889a59deeb85ecd79a0b);\n        \n    \n            var marker_ea0959bc68662babcca2ddb2d747c019 = L.marker(\n                [28.56230197, -80.57735648],\n                {}\n            ).addTo(marker_cluster_feac3ab1f750bdfcc7d48b54dd41d982);\n        \n    \n            var icon_d9b26ca90de01c034050e14729384946 = L.AwesomeMarkers.icon(\n                {&quot;extraClasses&quot;: &quot;fa-rotate-0&quot;, &quot;icon&quot;: &quot;info-sign&quot;, &quot;iconColor&quot;: &quot;green&quot;, &quot;markerColor&quot;: &quot;white&quot;, &quot;prefix&quot;: &quot;glyphicon&quot;}\n            );\n            marker_ea0959bc68662babcca2ddb2d747c019.setIcon(icon_d9b26ca90de01c034050e14729384946);\n        \n    \n            var marker_9f9ed4eeebfbecd1fc8f895b51e30794 = L.marker(\n                [28.56230197, -80.57735648],\n                {}\n            ).addTo(marker_cluster_feac3ab1f750bdfcc7d48b54dd41d982);\n        \n    \n            var icon_14d0341094823da957060d7bbd283d15 = L.AwesomeMarkers.icon(\n                {&quot;extraClasses&quot;: &quot;fa-rotate-0&quot;, &quot;icon&quot;: &quot;info-sign&quot;, &quot;iconColor&quot;: &quot;green&quot;, &quot;markerColor&quot;: &quot;white&quot;, &quot;prefix&quot;: &quot;glyphicon&quot;}\n            );\n            marker_9f9ed4eeebfbecd1fc8f895b51e30794.setIcon(icon_14d0341094823da957060d7bbd283d15);\n        \n    \n            var marker_5e5d2c357487410bcc8602b5797f29f8 = L.marker(\n                [28.56230197, -80.57735648],\n                {}\n            ).addTo(marker_cluster_feac3ab1f750bdfcc7d48b54dd41d982);\n        \n    \n            var icon_01efe366cfe433352aecb21f930b9dc9 = L.AwesomeMarkers.icon(\n                {&quot;extraClasses&quot;: &quot;fa-rotate-0&quot;, &quot;icon&quot;: &quot;info-sign&quot;, &quot;iconColor&quot;: &quot;red&quot;, &quot;markerColor&quot;: &quot;white&quot;, &quot;prefix&quot;: &quot;glyphicon&quot;}\n            );\n            marker_5e5d2c357487410bcc8602b5797f29f8.setIcon(icon_01efe366cfe433352aecb21f930b9dc9);\n        \n    \n            var marker_ff052e6a4806ece8c2960c7dcace4734 = L.marker(\n                [28.56230197, -80.57735648],\n                {}\n            ).addTo(marker_cluster_feac3ab1f750bdfcc7d48b54dd41d982);\n        \n    \n            var icon_84ec9c200d0fb6e8220510dcea4e835d = L.AwesomeMarkers.icon(\n                {&quot;extraClasses&quot;: &quot;fa-rotate-0&quot;, &quot;icon&quot;: &quot;info-sign&quot;, &quot;iconColor&quot;: &quot;green&quot;, &quot;markerColor&quot;: &quot;white&quot;, &quot;prefix&quot;: &quot;glyphicon&quot;}\n            );\n            marker_ff052e6a4806ece8c2960c7dcace4734.setIcon(icon_84ec9c200d0fb6e8220510dcea4e835d);\n        \n    \n            var marker_742dff0485622c4932dd3a902a546d4d = L.marker(\n                [28.56230197, -80.57735648],\n                {}\n            ).addTo(marker_cluster_feac3ab1f750bdfcc7d48b54dd41d982);\n        \n    \n            var icon_990e00a1c89f0f0246d89e23c14efc16 = L.AwesomeMarkers.icon(\n                {&quot;extraClasses&quot;: &quot;fa-rotate-0&quot;, &quot;icon&quot;: &quot;info-sign&quot;, &quot;iconColor&quot;: &quot;green&quot;, &quot;markerColor&quot;: &quot;white&quot;, &quot;prefix&quot;: &quot;glyphicon&quot;}\n            );\n            marker_742dff0485622c4932dd3a902a546d4d.setIcon(icon_990e00a1c89f0f0246d89e23c14efc16);\n        \n    \n            var marker_990ac071e0edc3cc6070cb635e51b7c6 = L.marker(\n                [34.63283416, -120.6107455],\n                {}\n            ).addTo(marker_cluster_feac3ab1f750bdfcc7d48b54dd41d982);\n        \n    \n            var icon_89e9d6ab0f8ed1b6b0df54a14d8f3866 = L.AwesomeMarkers.icon(\n                {&quot;extraClasses&quot;: &quot;fa-rotate-0&quot;, &quot;icon&quot;: &quot;info-sign&quot;, &quot;iconColor&quot;: &quot;red&quot;, &quot;markerColor&quot;: &quot;white&quot;, &quot;prefix&quot;: &quot;glyphicon&quot;}\n            );\n            marker_990ac071e0edc3cc6070cb635e51b7c6.setIcon(icon_89e9d6ab0f8ed1b6b0df54a14d8f3866);\n        \n    \n            var marker_d12797af81be2e190e70aacef9847006 = L.marker(\n                [34.63283416, -120.6107455],\n                {}\n            ).addTo(marker_cluster_feac3ab1f750bdfcc7d48b54dd41d982);\n        \n    \n            var icon_46ae74ddbdb5689f14c61b656ed488d3 = L.AwesomeMarkers.icon(\n                {&quot;extraClasses&quot;: &quot;fa-rotate-0&quot;, &quot;icon&quot;: &quot;info-sign&quot;, &quot;iconColor&quot;: &quot;red&quot;, &quot;markerColor&quot;: &quot;white&quot;, &quot;prefix&quot;: &quot;glyphicon&quot;}\n            );\n            marker_d12797af81be2e190e70aacef9847006.setIcon(icon_46ae74ddbdb5689f14c61b656ed488d3);\n        \n    \n            var marker_e5b11a5f8ed6a840574e1c10599d37a2 = L.marker(\n                [34.63283416, -120.6107455],\n                {}\n            ).addTo(marker_cluster_feac3ab1f750bdfcc7d48b54dd41d982);\n        \n    \n            var icon_f79b9f909079ab1ccfc632aeabd2cfa4 = L.AwesomeMarkers.icon(\n                {&quot;extraClasses&quot;: &quot;fa-rotate-0&quot;, &quot;icon&quot;: &quot;info-sign&quot;, &quot;iconColor&quot;: &quot;green&quot;, &quot;markerColor&quot;: &quot;white&quot;, &quot;prefix&quot;: &quot;glyphicon&quot;}\n            );\n            marker_e5b11a5f8ed6a840574e1c10599d37a2.setIcon(icon_f79b9f909079ab1ccfc632aeabd2cfa4);\n        \n    \n            var marker_fc985af8b03c063a2867fabea3948bca = L.marker(\n                [34.63283416, -120.6107455],\n                {}\n            ).addTo(marker_cluster_feac3ab1f750bdfcc7d48b54dd41d982);\n        \n    \n            var icon_8116e4c354ad737a1d47a75606a95be9 = L.AwesomeMarkers.icon(\n                {&quot;extraClasses&quot;: &quot;fa-rotate-0&quot;, &quot;icon&quot;: &quot;info-sign&quot;, &quot;iconColor&quot;: &quot;green&quot;, &quot;markerColor&quot;: &quot;white&quot;, &quot;prefix&quot;: &quot;glyphicon&quot;}\n            );\n            marker_fc985af8b03c063a2867fabea3948bca.setIcon(icon_8116e4c354ad737a1d47a75606a95be9);\n        \n    \n            var marker_44bc0881b820ceb90b6c53759f9dae2c = L.marker(\n                [34.63283416, -120.6107455],\n                {}\n            ).addTo(marker_cluster_feac3ab1f750bdfcc7d48b54dd41d982);\n        \n    \n            var icon_5f224f63ba113d5fbd658630494be373 = L.AwesomeMarkers.icon(\n                {&quot;extraClasses&quot;: &quot;fa-rotate-0&quot;, &quot;icon&quot;: &quot;info-sign&quot;, &quot;iconColor&quot;: &quot;green&quot;, &quot;markerColor&quot;: &quot;white&quot;, &quot;prefix&quot;: &quot;glyphicon&quot;}\n            );\n            marker_44bc0881b820ceb90b6c53759f9dae2c.setIcon(icon_5f224f63ba113d5fbd658630494be373);\n        \n    \n            var marker_64b2409bb028aff2d6b2e581b646553c = L.marker(\n                [34.63283416, -120.6107455],\n                {}\n            ).addTo(marker_cluster_feac3ab1f750bdfcc7d48b54dd41d982);\n        \n    \n            var icon_96f9ab71a03ae4d47411fefc37bc7325 = L.AwesomeMarkers.icon(\n                {&quot;extraClasses&quot;: &quot;fa-rotate-0&quot;, &quot;icon&quot;: &quot;info-sign&quot;, &quot;iconColor&quot;: &quot;green&quot;, &quot;markerColor&quot;: &quot;white&quot;, &quot;prefix&quot;: &quot;glyphicon&quot;}\n            );\n            marker_64b2409bb028aff2d6b2e581b646553c.setIcon(icon_96f9ab71a03ae4d47411fefc37bc7325);\n        \n    \n            var marker_855c73d2c1fed7f86f7b3cdd974128e8 = L.marker(\n                [34.63283416, -120.6107455],\n                {}\n            ).addTo(marker_cluster_feac3ab1f750bdfcc7d48b54dd41d982);\n        \n    \n            var icon_fa593cd452e3bfe043f01f6fdbee16bd = L.AwesomeMarkers.icon(\n                {&quot;extraClasses&quot;: &quot;fa-rotate-0&quot;, &quot;icon&quot;: &quot;info-sign&quot;, &quot;iconColor&quot;: &quot;red&quot;, &quot;markerColor&quot;: &quot;white&quot;, &quot;prefix&quot;: &quot;glyphicon&quot;}\n            );\n            marker_855c73d2c1fed7f86f7b3cdd974128e8.setIcon(icon_fa593cd452e3bfe043f01f6fdbee16bd);\n        \n    \n            var marker_ba8a9e9b5840c1198e40219d5af936e9 = L.marker(\n                [34.63283416, -120.6107455],\n                {}\n            ).addTo(marker_cluster_feac3ab1f750bdfcc7d48b54dd41d982);\n        \n    \n            var icon_c6c868c1ff4b5eb6efa3a50a4b0bf5f0 = L.AwesomeMarkers.icon(\n                {&quot;extraClasses&quot;: &quot;fa-rotate-0&quot;, &quot;icon&quot;: &quot;info-sign&quot;, &quot;iconColor&quot;: &quot;red&quot;, &quot;markerColor&quot;: &quot;white&quot;, &quot;prefix&quot;: &quot;glyphicon&quot;}\n            );\n            marker_ba8a9e9b5840c1198e40219d5af936e9.setIcon(icon_c6c868c1ff4b5eb6efa3a50a4b0bf5f0);\n        \n    \n            var marker_47b14fa061ab3da21b5be3c1348283dd = L.marker(\n                [34.63283416, -120.6107455],\n                {}\n            ).addTo(marker_cluster_feac3ab1f750bdfcc7d48b54dd41d982);\n        \n    \n            var icon_437d8ee4360b8e6fbc8743f11a8d665e = L.AwesomeMarkers.icon(\n                {&quot;extraClasses&quot;: &quot;fa-rotate-0&quot;, &quot;icon&quot;: &quot;info-sign&quot;, &quot;iconColor&quot;: &quot;red&quot;, &quot;markerColor&quot;: &quot;white&quot;, &quot;prefix&quot;: &quot;glyphicon&quot;}\n            );\n            marker_47b14fa061ab3da21b5be3c1348283dd.setIcon(icon_437d8ee4360b8e6fbc8743f11a8d665e);\n        \n    \n            var marker_3f5fe66ed8011a23d6b9018bff6671b1 = L.marker(\n                [34.63283416, -120.6107455],\n                {}\n            ).addTo(marker_cluster_feac3ab1f750bdfcc7d48b54dd41d982);\n        \n    \n            var icon_d93ed5e451cfd63c5e5deab07f32aa7a = L.AwesomeMarkers.icon(\n                {&quot;extraClasses&quot;: &quot;fa-rotate-0&quot;, &quot;icon&quot;: &quot;info-sign&quot;, &quot;iconColor&quot;: &quot;red&quot;, &quot;markerColor&quot;: &quot;white&quot;, &quot;prefix&quot;: &quot;glyphicon&quot;}\n            );\n            marker_3f5fe66ed8011a23d6b9018bff6671b1.setIcon(icon_d93ed5e451cfd63c5e5deab07f32aa7a);\n        \n    \n            var marker_5fd800ce8e906f6348878668ca0adf1c = L.marker(\n                [28.57325457, -80.64689529],\n                {}\n            ).addTo(marker_cluster_feac3ab1f750bdfcc7d48b54dd41d982);\n        \n    \n            var icon_e8c278e811a07c0b6b5f7d5a2809e1d0 = L.AwesomeMarkers.icon(\n                {&quot;extraClasses&quot;: &quot;fa-rotate-0&quot;, &quot;icon&quot;: &quot;info-sign&quot;, &quot;iconColor&quot;: &quot;green&quot;, &quot;markerColor&quot;: &quot;white&quot;, &quot;prefix&quot;: &quot;glyphicon&quot;}\n            );\n            marker_5fd800ce8e906f6348878668ca0adf1c.setIcon(icon_e8c278e811a07c0b6b5f7d5a2809e1d0);\n        \n    \n            var marker_1e10340a6d0c82e8e3034862a0606c72 = L.marker(\n                [28.57325457, -80.64689529],\n                {}\n            ).addTo(marker_cluster_feac3ab1f750bdfcc7d48b54dd41d982);\n        \n    \n            var icon_662e6b1dcc5979ece4e228ddf1d9ef80 = L.AwesomeMarkers.icon(\n                {&quot;extraClasses&quot;: &quot;fa-rotate-0&quot;, &quot;icon&quot;: &quot;info-sign&quot;, &quot;iconColor&quot;: &quot;red&quot;, &quot;markerColor&quot;: &quot;white&quot;, &quot;prefix&quot;: &quot;glyphicon&quot;}\n            );\n            marker_1e10340a6d0c82e8e3034862a0606c72.setIcon(icon_662e6b1dcc5979ece4e228ddf1d9ef80);\n        \n    \n            var marker_50e051a115925786c1454e80f720793c = L.marker(\n                [28.57325457, -80.64689529],\n                {}\n            ).addTo(marker_cluster_feac3ab1f750bdfcc7d48b54dd41d982);\n        \n    \n            var icon_e2764097b95f30b546a34861c13560a5 = L.AwesomeMarkers.icon(\n                {&quot;extraClasses&quot;: &quot;fa-rotate-0&quot;, &quot;icon&quot;: &quot;info-sign&quot;, &quot;iconColor&quot;: &quot;green&quot;, &quot;markerColor&quot;: &quot;white&quot;, &quot;prefix&quot;: &quot;glyphicon&quot;}\n            );\n            marker_50e051a115925786c1454e80f720793c.setIcon(icon_e2764097b95f30b546a34861c13560a5);\n        \n    \n            var marker_bbd14378376e14e6804c350bf90df26c = L.marker(\n                [28.57325457, -80.64689529],\n                {}\n            ).addTo(marker_cluster_feac3ab1f750bdfcc7d48b54dd41d982);\n        \n    \n            var icon_9616f9a757a4abf3b17f933064ca4659 = L.AwesomeMarkers.icon(\n                {&quot;extraClasses&quot;: &quot;fa-rotate-0&quot;, &quot;icon&quot;: &quot;info-sign&quot;, &quot;iconColor&quot;: &quot;green&quot;, &quot;markerColor&quot;: &quot;white&quot;, &quot;prefix&quot;: &quot;glyphicon&quot;}\n            );\n            marker_bbd14378376e14e6804c350bf90df26c.setIcon(icon_9616f9a757a4abf3b17f933064ca4659);\n        \n    \n            var marker_6406654ca2e72d82bd80e27c7bd21c0a = L.marker(\n                [28.57325457, -80.64689529],\n                {}\n            ).addTo(marker_cluster_feac3ab1f750bdfcc7d48b54dd41d982);\n        \n    \n            var icon_7d1e181339fcd83fd6391ec7ae7a22f8 = L.AwesomeMarkers.icon(\n                {&quot;extraClasses&quot;: &quot;fa-rotate-0&quot;, &quot;icon&quot;: &quot;info-sign&quot;, &quot;iconColor&quot;: &quot;red&quot;, &quot;markerColor&quot;: &quot;white&quot;, &quot;prefix&quot;: &quot;glyphicon&quot;}\n            );\n            marker_6406654ca2e72d82bd80e27c7bd21c0a.setIcon(icon_7d1e181339fcd83fd6391ec7ae7a22f8);\n        \n    \n            var marker_95d0d611803c0cf81ac130ca8e4fa8ee = L.marker(\n                [28.57325457, -80.64689529],\n                {}\n            ).addTo(marker_cluster_feac3ab1f750bdfcc7d48b54dd41d982);\n        \n    \n            var icon_3fdfd05c9e245f66765be4754b111b60 = L.AwesomeMarkers.icon(\n                {&quot;extraClasses&quot;: &quot;fa-rotate-0&quot;, &quot;icon&quot;: &quot;info-sign&quot;, &quot;iconColor&quot;: &quot;green&quot;, &quot;markerColor&quot;: &quot;white&quot;, &quot;prefix&quot;: &quot;glyphicon&quot;}\n            );\n            marker_95d0d611803c0cf81ac130ca8e4fa8ee.setIcon(icon_3fdfd05c9e245f66765be4754b111b60);\n        \n    \n            var marker_0172c42dcbd715ffc3e69c78158a0eb5 = L.marker(\n                [28.57325457, -80.64689529],\n                {}\n            ).addTo(marker_cluster_feac3ab1f750bdfcc7d48b54dd41d982);\n        \n    \n            var icon_dcdcc6a064d397595dbf22060ad6b06b = L.AwesomeMarkers.icon(\n                {&quot;extraClasses&quot;: &quot;fa-rotate-0&quot;, &quot;icon&quot;: &quot;info-sign&quot;, &quot;iconColor&quot;: &quot;green&quot;, &quot;markerColor&quot;: &quot;white&quot;, &quot;prefix&quot;: &quot;glyphicon&quot;}\n            );\n            marker_0172c42dcbd715ffc3e69c78158a0eb5.setIcon(icon_dcdcc6a064d397595dbf22060ad6b06b);\n        \n    \n            var marker_4a87f04d6b5397163871c0d2582f46b4 = L.marker(\n                [28.57325457, -80.64689529],\n                {}\n            ).addTo(marker_cluster_feac3ab1f750bdfcc7d48b54dd41d982);\n        \n    \n            var icon_95721acfd90e724b17a479b75ee0ca33 = L.AwesomeMarkers.icon(\n                {&quot;extraClasses&quot;: &quot;fa-rotate-0&quot;, &quot;icon&quot;: &quot;info-sign&quot;, &quot;iconColor&quot;: &quot;red&quot;, &quot;markerColor&quot;: &quot;white&quot;, &quot;prefix&quot;: &quot;glyphicon&quot;}\n            );\n            marker_4a87f04d6b5397163871c0d2582f46b4.setIcon(icon_95721acfd90e724b17a479b75ee0ca33);\n        \n    \n            var marker_620839a0b96f507ba7a532cf327767b4 = L.marker(\n                [28.57325457, -80.64689529],\n                {}\n            ).addTo(marker_cluster_feac3ab1f750bdfcc7d48b54dd41d982);\n        \n    \n            var icon_bdf2029b59a913927667b2f0cbaa448b = L.AwesomeMarkers.icon(\n                {&quot;extraClasses&quot;: &quot;fa-rotate-0&quot;, &quot;icon&quot;: &quot;info-sign&quot;, &quot;iconColor&quot;: &quot;green&quot;, &quot;markerColor&quot;: &quot;white&quot;, &quot;prefix&quot;: &quot;glyphicon&quot;}\n            );\n            marker_620839a0b96f507ba7a532cf327767b4.setIcon(icon_bdf2029b59a913927667b2f0cbaa448b);\n        \n    \n            var marker_b41384051577cf4a180292108184d9db = L.marker(\n                [28.57325457, -80.64689529],\n                {}\n            ).addTo(marker_cluster_feac3ab1f750bdfcc7d48b54dd41d982);\n        \n    \n            var icon_988c95eb4663daa6da1da9a1d0b8b85a = L.AwesomeMarkers.icon(\n                {&quot;extraClasses&quot;: &quot;fa-rotate-0&quot;, &quot;icon&quot;: &quot;info-sign&quot;, &quot;iconColor&quot;: &quot;green&quot;, &quot;markerColor&quot;: &quot;white&quot;, &quot;prefix&quot;: &quot;glyphicon&quot;}\n            );\n            marker_b41384051577cf4a180292108184d9db.setIcon(icon_988c95eb4663daa6da1da9a1d0b8b85a);\n        \n    \n            var marker_c665b23094be8a6b96c3c850482c0a87 = L.marker(\n                [28.57325457, -80.64689529],\n                {}\n            ).addTo(marker_cluster_feac3ab1f750bdfcc7d48b54dd41d982);\n        \n    \n            var icon_afc6fb6369282dac7a6005dc601c2e50 = L.AwesomeMarkers.icon(\n                {&quot;extraClasses&quot;: &quot;fa-rotate-0&quot;, &quot;icon&quot;: &quot;info-sign&quot;, &quot;iconColor&quot;: &quot;green&quot;, &quot;markerColor&quot;: &quot;white&quot;, &quot;prefix&quot;: &quot;glyphicon&quot;}\n            );\n            marker_c665b23094be8a6b96c3c850482c0a87.setIcon(icon_afc6fb6369282dac7a6005dc601c2e50);\n        \n    \n            var marker_17262b6352982d799dd63b7e8009669d = L.marker(\n                [28.57325457, -80.64689529],\n                {}\n            ).addTo(marker_cluster_feac3ab1f750bdfcc7d48b54dd41d982);\n        \n    \n            var icon_19489a2309c77a09f1af372ff00534c4 = L.AwesomeMarkers.icon(\n                {&quot;extraClasses&quot;: &quot;fa-rotate-0&quot;, &quot;icon&quot;: &quot;info-sign&quot;, &quot;iconColor&quot;: &quot;green&quot;, &quot;markerColor&quot;: &quot;white&quot;, &quot;prefix&quot;: &quot;glyphicon&quot;}\n            );\n            marker_17262b6352982d799dd63b7e8009669d.setIcon(icon_19489a2309c77a09f1af372ff00534c4);\n        \n    \n            var marker_77df08d0ad0ad3de4ca2f95a7538cffe = L.marker(\n                [28.57325457, -80.64689529],\n                {}\n            ).addTo(marker_cluster_feac3ab1f750bdfcc7d48b54dd41d982);\n        \n    \n            var icon_1c13adff9ff4e4389f094392af7057ad = L.AwesomeMarkers.icon(\n                {&quot;extraClasses&quot;: &quot;fa-rotate-0&quot;, &quot;icon&quot;: &quot;info-sign&quot;, &quot;iconColor&quot;: &quot;green&quot;, &quot;markerColor&quot;: &quot;white&quot;, &quot;prefix&quot;: &quot;glyphicon&quot;}\n            );\n            marker_77df08d0ad0ad3de4ca2f95a7538cffe.setIcon(icon_1c13adff9ff4e4389f094392af7057ad);\n        \n    \n            var marker_0c3141efc94417936f58ff9065407082 = L.marker(\n                [28.56319718, -80.57682003],\n                {}\n            ).addTo(marker_cluster_feac3ab1f750bdfcc7d48b54dd41d982);\n        \n    \n            var icon_23620f5d979ef45e0c60839f13d44981 = L.AwesomeMarkers.icon(\n                {&quot;extraClasses&quot;: &quot;fa-rotate-0&quot;, &quot;icon&quot;: &quot;info-sign&quot;, &quot;iconColor&quot;: &quot;green&quot;, &quot;markerColor&quot;: &quot;white&quot;, &quot;prefix&quot;: &quot;glyphicon&quot;}\n            );\n            marker_0c3141efc94417936f58ff9065407082.setIcon(icon_23620f5d979ef45e0c60839f13d44981);\n        \n    \n            var marker_324e7b06d3e6eb95d402b1c85bff6e85 = L.marker(\n                [28.56319718, -80.57682003],\n                {}\n            ).addTo(marker_cluster_feac3ab1f750bdfcc7d48b54dd41d982);\n        \n    \n            var icon_154542da927718f7045eec7d961f2135 = L.AwesomeMarkers.icon(\n                {&quot;extraClasses&quot;: &quot;fa-rotate-0&quot;, &quot;icon&quot;: &quot;info-sign&quot;, &quot;iconColor&quot;: &quot;green&quot;, &quot;markerColor&quot;: &quot;white&quot;, &quot;prefix&quot;: &quot;glyphicon&quot;}\n            );\n            marker_324e7b06d3e6eb95d402b1c85bff6e85.setIcon(icon_154542da927718f7045eec7d961f2135);\n        \n    \n            var marker_f5b084bc45f61603e092d5d57629da47 = L.marker(\n                [28.56319718, -80.57682003],\n                {}\n            ).addTo(marker_cluster_feac3ab1f750bdfcc7d48b54dd41d982);\n        \n    \n            var icon_f7acd94ab817cc8b648e64a5823c1861 = L.AwesomeMarkers.icon(\n                {&quot;extraClasses&quot;: &quot;fa-rotate-0&quot;, &quot;icon&quot;: &quot;info-sign&quot;, &quot;iconColor&quot;: &quot;red&quot;, &quot;markerColor&quot;: &quot;white&quot;, &quot;prefix&quot;: &quot;glyphicon&quot;}\n            );\n            marker_f5b084bc45f61603e092d5d57629da47.setIcon(icon_f7acd94ab817cc8b648e64a5823c1861);\n        \n    \n            var marker_363af4a6b1b00a80ea58968d33440fb3 = L.marker(\n                [28.56319718, -80.57682003],\n                {}\n            ).addTo(marker_cluster_feac3ab1f750bdfcc7d48b54dd41d982);\n        \n    \n            var icon_20195bb4edf4dc70985570edef931d97 = L.AwesomeMarkers.icon(\n                {&quot;extraClasses&quot;: &quot;fa-rotate-0&quot;, &quot;icon&quot;: &quot;info-sign&quot;, &quot;iconColor&quot;: &quot;red&quot;, &quot;markerColor&quot;: &quot;white&quot;, &quot;prefix&quot;: &quot;glyphicon&quot;}\n            );\n            marker_363af4a6b1b00a80ea58968d33440fb3.setIcon(icon_20195bb4edf4dc70985570edef931d97);\n        \n    \n            var marker_42c7d68b071a22fadefe055c1d1b04f1 = L.marker(\n                [28.56319718, -80.57682003],\n                {}\n            ).addTo(marker_cluster_feac3ab1f750bdfcc7d48b54dd41d982);\n        \n    \n            var icon_f74ab466bfdf0748f18d58c2837c7226 = L.AwesomeMarkers.icon(\n                {&quot;extraClasses&quot;: &quot;fa-rotate-0&quot;, &quot;icon&quot;: &quot;info-sign&quot;, &quot;iconColor&quot;: &quot;red&quot;, &quot;markerColor&quot;: &quot;white&quot;, &quot;prefix&quot;: &quot;glyphicon&quot;}\n            );\n            marker_42c7d68b071a22fadefe055c1d1b04f1.setIcon(icon_f74ab466bfdf0748f18d58c2837c7226);\n        \n    \n            var marker_f4010117aba6f860efd92e9c7389d3fe = L.marker(\n                [28.56319718, -80.57682003],\n                {}\n            ).addTo(marker_cluster_feac3ab1f750bdfcc7d48b54dd41d982);\n        \n    \n            var icon_0ce6e36c8c71c754add2bd55ad2ffed8 = L.AwesomeMarkers.icon(\n                {&quot;extraClasses&quot;: &quot;fa-rotate-0&quot;, &quot;icon&quot;: &quot;info-sign&quot;, &quot;iconColor&quot;: &quot;green&quot;, &quot;markerColor&quot;: &quot;white&quot;, &quot;prefix&quot;: &quot;glyphicon&quot;}\n            );\n            marker_f4010117aba6f860efd92e9c7389d3fe.setIcon(icon_0ce6e36c8c71c754add2bd55ad2ffed8);\n        \n    \n            var marker_0b25a895da45a00e5096c0bbedad9432 = L.marker(\n                [28.56319718, -80.57682003],\n                {}\n            ).addTo(marker_cluster_feac3ab1f750bdfcc7d48b54dd41d982);\n        \n    \n            var icon_3859bd113ab8bd0dd33dea9209dc1591 = L.AwesomeMarkers.icon(\n                {&quot;extraClasses&quot;: &quot;fa-rotate-0&quot;, &quot;icon&quot;: &quot;info-sign&quot;, &quot;iconColor&quot;: &quot;red&quot;, &quot;markerColor&quot;: &quot;white&quot;, &quot;prefix&quot;: &quot;glyphicon&quot;}\n            );\n            marker_0b25a895da45a00e5096c0bbedad9432.setIcon(icon_3859bd113ab8bd0dd33dea9209dc1591);\n        \n&lt;/script&gt;\" style=\"position:absolute;width:100%;height:100%;left:0;top:0;border:none !important;\" allowfullscreen webkitallowfullscreen mozallowfullscreen></iframe></div></div>",
                        "text/plain": "<folium.folium.Map at 0x7fdb9d7b15e0>"
                    },
                    "execution_count": 24,
                    "metadata": {},
                    "output_type": "execute_result"
                }
            ],
            "source": "# Add marker_cluster to current site_map\nsite_map.add_child(marker_cluster)\n\n# for each row in spacex_df data frame\n# create a Marker object with its coordinate\n# and customize the Marker's icon property to indicate if this launch was successed or failed, \n# e.g., icon=folium.Icon(color='white', icon_color=row['marker_color']\nfor index, row in spacex_df.iterrows():\n    # TODO: Create and add a Marker cluster to the site map\n    # marker = folium.Marker(...)\n    folium.Marker([row['Lat'], row['Long']], icon=folium.Icon(color='white', icon_color=row['marker_color'])).add_to(marker_cluster)\n   \n    #marker_cluster.add_child(marker)\n\nsite_map.add_child(marker_cluster)"
        },
        {
            "cell_type": "markdown",
            "metadata": {},
            "source": "Your updated map may look like the following screenshots:\n"
        },
        {
            "cell_type": "markdown",
            "metadata": {},
            "source": "<center>\n    <img src=\"https://cf-courses-data.s3.us.cloud-object-storage.appdomain.cloud/IBM-DS0321EN-SkillsNetwork/labs/module_3/images/launch_site_marker_cluster.png\" />\n</center>\n"
        },
        {
            "cell_type": "markdown",
            "metadata": {},
            "source": "<center>\n    <img src=\"https://cf-courses-data.s3.us.cloud-object-storage.appdomain.cloud/IBM-DS0321EN-SkillsNetwork/labs/module_3/images/launch_site_marker_cluster_zoomed.png\" />\n</center>\n"
        },
        {
            "cell_type": "markdown",
            "metadata": {},
            "source": "From the color-labeled markers in marker clusters, you should be able to easily identify which launch sites have relatively high success rates.\n"
        },
        {
            "cell_type": "markdown",
            "metadata": {},
            "source": "# TASK 3: Calculate the distances between a launch site to its proximities\n"
        },
        {
            "cell_type": "markdown",
            "metadata": {},
            "source": "Next, we need to explore and analyze the proximities of launch sites.\n"
        },
        {
            "cell_type": "markdown",
            "metadata": {},
            "source": "Let's first add a `MousePosition` on the map to get coordinate for a mouse over a point on the map. As such, while you are exploring the map, you can easily find the coordinates of any points of interests (such as railway)\n"
        },
        {
            "cell_type": "code",
            "execution_count": null,
            "metadata": {},
            "outputs": [],
            "source": "# Add Mouse Position to get the coordinate (Lat, Long) for a mouse over on the map\nformatter = \"function(num) {return L.Util.formatNum(num, 5);};\"\nmouse_position = MousePosition(\n    position='topright',\n    separator=' Long: ',\n    empty_string='NaN',\n    lng_first=False,\n    num_digits=20,\n    prefix='Lat:',\n    lat_formatter=formatter,\n    lng_formatter=formatter,\n)\n\nsite_map.add_child(mouse_position)\nsite_map"
        },
        {
            "cell_type": "markdown",
            "metadata": {},
            "source": "Now zoom in to a launch site and explore its proximity to see if you can easily find any railway, highway, coastline, etc. Move your mouse to these points and mark down their coordinates (shown on the top-left) in order to the distance to the launch site.\n"
        },
        {
            "cell_type": "markdown",
            "metadata": {},
            "source": "You can calculate the distance between two points on the map based on their `Lat` and `Long` values using the following method:\n"
        },
        {
            "cell_type": "code",
            "execution_count": null,
            "metadata": {},
            "outputs": [],
            "source": "from math import sin, cos, sqrt, atan2, radians\n\ndef calculate_distance(lat1, lon1, lat2, lon2):\n    # approximate radius of earth in km\n    R = 6373.0\n\n    lat1 = radians(lat1)\n    lon1 = radians(lon1)\n    lat2 = radians(lat2)\n    lon2 = radians(lon2)\n\n    dlon = lon2 - lon1\n    dlat = lat2 - lat1\n\n    a = sin(dlat / 2)**2 + cos(lat1) * cos(lat2) * sin(dlon / 2)**2\n    c = 2 * atan2(sqrt(a), sqrt(1 - a))\n\n    distance = R * c\n    return distance"
        },
        {
            "cell_type": "markdown",
            "metadata": {},
            "source": "*TODO:* Mark down a point on the closest coastline using MousePosition and calculate the distance between the coastline point and the launch site.\n"
        },
        {
            "cell_type": "code",
            "execution_count": null,
            "metadata": {},
            "outputs": [],
            "source": "# find coordinate of the closet coastline\n# e.g.,: Lat: 28.56367  Lon: -80.57163\n# distance_coastline = calculate_distance(launch_site_lat, launch_site_lon, coastline_lat, coastline_lon)"
        },
        {
            "cell_type": "markdown",
            "metadata": {},
            "source": "*TODO:* After obtained its coordinate, create a `folium.Marker` to show the distance\n"
        },
        {
            "cell_type": "code",
            "execution_count": null,
            "metadata": {},
            "outputs": [],
            "source": "# Create and add a folium.Marker on your selected closest coastline point on the map\n# Display the distance between coastline point and launch site using the icon property \n# for example\n# distance_marker = folium.Marker(\n#    coordinate,\n#    icon=DivIcon(\n#        icon_size=(20,20),\n#        icon_anchor=(0,0),\n#        html='<div style=\"font-size: 12; color:#d35400;\"><b>%s</b></div>' % \"{:10.2f} KM\".format(distance),\n#        )\n#    )"
        },
        {
            "cell_type": "markdown",
            "metadata": {},
            "source": "*TODO:* Draw a `PolyLine` between a launch site to the selected coastline point\n"
        },
        {
            "cell_type": "code",
            "execution_count": null,
            "metadata": {},
            "outputs": [],
            "source": "# Create a `folium.PolyLine` object using the coastline coordinates and launch site coordinate\n# lines=folium.PolyLine(locations=coordinates, weight=1)\nsite_map.add_child(lines)"
        },
        {
            "cell_type": "markdown",
            "metadata": {},
            "source": "Your updated map with distance line should look like the following screenshot:\n"
        },
        {
            "cell_type": "markdown",
            "metadata": {},
            "source": "<center>\n    <img src=\"https://cf-courses-data.s3.us.cloud-object-storage.appdomain.cloud/IBM-DS0321EN-SkillsNetwork/labs/module_3/images/launch_site_marker_distance.png\" />\n</center>\n"
        },
        {
            "cell_type": "markdown",
            "metadata": {},
            "source": "*TODO:* Similarly, you can draw a line betwee a launch site to its closest city, railway, highway, etc. You need to use `MousePosition` to find the their coordinates on the map first\n"
        },
        {
            "cell_type": "markdown",
            "metadata": {},
            "source": "A railway map symbol may look like this:\n"
        },
        {
            "cell_type": "markdown",
            "metadata": {},
            "source": "<center>\n    <img src=\"https://cf-courses-data.s3.us.cloud-object-storage.appdomain.cloud/IBM-DS0321EN-SkillsNetwork/labs/module_3/images/railway.png\" />\n</center>\n"
        },
        {
            "cell_type": "markdown",
            "metadata": {},
            "source": "A highway map symbol may look like this:\n"
        },
        {
            "cell_type": "markdown",
            "metadata": {},
            "source": "<center>\n    <img src=\"https://cf-courses-data.s3.us.cloud-object-storage.appdomain.cloud/IBM-DS0321EN-SkillsNetwork/labs/module_3/images/highway.png\" />\n</center>\n"
        },
        {
            "cell_type": "markdown",
            "metadata": {},
            "source": "A city map symbol may look like this:\n"
        },
        {
            "cell_type": "markdown",
            "metadata": {},
            "source": "<center>\n    <img src=\"https://cf-courses-data.s3.us.cloud-object-storage.appdomain.cloud/IBM-DS0321EN-SkillsNetwork/labs/module_3/images/city.png\" />\n</center>\n"
        },
        {
            "cell_type": "code",
            "execution_count": null,
            "metadata": {},
            "outputs": [],
            "source": "# Create a marker with distance to a closest city, railway, highway, etc.\n# Draw a line between the marker to the launch site\n"
        },
        {
            "cell_type": "code",
            "execution_count": null,
            "metadata": {},
            "outputs": [],
            "source": ""
        },
        {
            "cell_type": "code",
            "execution_count": null,
            "metadata": {},
            "outputs": [],
            "source": ""
        },
        {
            "cell_type": "markdown",
            "metadata": {},
            "source": "After you plot distance lines to the proximities, you can answer the following questions easily:\n\n*   Are launch sites in close proximity to railways?\n*   Are launch sites in close proximity to highways?\n*   Are launch sites in close proximity to coastline?\n*   Do launch sites keep certain distance away from cities?\n\nAlso please try to explain your findings.\n"
        },
        {
            "cell_type": "markdown",
            "metadata": {},
            "source": "# Next Steps:\n\nNow you have discovered many interesting insights related to the launch sites' location using folium, in a very interactive way. Next, you will need to build a dashboard using Ploty Dash on detailed launch records.\n"
        },
        {
            "cell_type": "markdown",
            "metadata": {},
            "source": "## Authors\n"
        },
        {
            "cell_type": "markdown",
            "metadata": {},
            "source": "[Yan Luo](https://www.linkedin.com/in/yan-luo-96288783/?utm_medium=Exinfluencer&utm_source=Exinfluencer&utm_content=000026UJ&utm_term=10006555&utm_id=NA-SkillsNetwork-Channel-SkillsNetworkCoursesIBMDS0321ENSkillsNetwork26802033-2022-01-01)\n"
        },
        {
            "cell_type": "markdown",
            "metadata": {},
            "source": "### Other Contributors\n"
        },
        {
            "cell_type": "markdown",
            "metadata": {},
            "source": "Joseph Santarcangelo\n"
        },
        {
            "cell_type": "markdown",
            "metadata": {},
            "source": "## Change Log\n"
        },
        {
            "cell_type": "markdown",
            "metadata": {},
            "source": "| Date (YYYY-MM-DD) | Version | Changed By | Change Description          |\n| ----------------- | ------- | ---------- | --------------------------- |\n| 2021-05-26        | 1.0     | Yan        | Created the initial version |\n"
        },
        {
            "cell_type": "markdown",
            "metadata": {},
            "source": "Copyright \u00a9 2021 IBM Corporation. All rights reserved.\n"
        }
    ],
    "metadata": {
        "kernelspec": {
            "display_name": "Python 3.9",
            "language": "python",
            "name": "python3"
        },
        "language_info": {
            "codemirror_mode": {
                "name": "ipython",
                "version": 3
            },
            "file_extension": ".py",
            "mimetype": "text/x-python",
            "name": "python",
            "nbconvert_exporter": "python",
            "pygments_lexer": "ipython3",
            "version": "3.9.7"
        },
        "papermill": {
            "duration": 142.196942,
            "end_time": "2020-09-19T06:29:13.341578",
            "environment_variables": {},
            "exception": null,
            "input_path": "__notebook__.ipynb",
            "output_path": "__notebook__.ipynb",
            "parameters": {},
            "start_time": "2020-09-19T06:26:51.144636",
            "version": "2.1.0"
        }
    },
    "nbformat": 4,
    "nbformat_minor": 4
}